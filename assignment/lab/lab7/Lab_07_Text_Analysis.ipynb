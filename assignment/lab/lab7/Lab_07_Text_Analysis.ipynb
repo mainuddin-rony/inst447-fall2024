{
  "cells": [
    {
      "cell_type": "markdown",
      "source": [
        "# Lab 7 Text Analysis [Total: 8 points]\n",
        "\n",
        "The purpose of this assignment is for you to engage with a concrete text analysis task. This will be accomplished through a coding assignment. You will carry out this task in the present notebook and use the notebook to document the various steps of the exercise and to answer all questions.\n",
        "\n",
        "\n",
        "## Required skills\n",
        "\n",
        "This lab will let you practice the following skills:\n",
        "- Write regular expressions\n",
        "- Parse date formats\n",
        "- Parse email addresses\n",
        "- Make substitutions using regular expressions.\n",
        "\n",
        "Before you start working on it, review P4E Ch. 11 of the textbook and/or the notebooks posted on ELMS under \"Text Analysis\".\n",
        "\n",
        "A few additional resources can be found here:\n",
        "- https://docs.python.org/3/library/re.html\n",
        "- https://www.dataquest.io/blog/regex-cheatsheet/\n",
        "- http://www.pyregex.com/"
      ],
      "metadata": {
        "id": "OnTm457a88HE"
      }
    },
    {
      "cell_type": "markdown",
      "source": [
        "## Important\n",
        "\n",
        "* Please ensure that you run the following two cells below before running any others. This will download all required files, as well as installing the necessary packages to ensure the code runs successfully. If you restart the kernel or your runtime session (in Colab), be sure to rerun this cell before running any others.\n",
        "* This assignment recommends using Google Colab. If you are using Anaconda Jupyter notebook/lab, please ensure that this notebook is kept in a new folder. This is because the following commands will delete all files with the extensions .csv and .py before downloading the required files."
      ],
      "metadata": {
        "id": "LsBegKLoAbSB"
      }
    },
    {
      "cell_type": "code",
      "source": [
        "# Installing Otter-Grader and downloading required files\n",
        "required_files = \"https://github.com/mainuddin-rony/inst447-fall2024/raw/main/assignment/lab/lab7/required_files.zip\"\n",
        "! rm -rf tests\n",
        "! rm -f required_files.zip *.csv *.py ._*.csv\n",
        "! wget $required_files && unzip -j required_files.zip\n",
        "! mkdir tests && mv *.py tests\n",
        "! pip install otter-grader==5.7.1"
      ],
      "metadata": {
        "id": "jkImmNvh9BdE"
      },
      "execution_count": null,
      "outputs": []
    },
    {
      "cell_type": "code",
      "execution_count": null,
      "metadata": {
        "deletable": false,
        "editable": false,
        "id": "4fRLJVgi8156"
      },
      "outputs": [],
      "source": [
        "# Initialize Otter\n",
        "import otter\n",
        "grader = otter.Notebook()"
      ]
    },
    {
      "cell_type": "markdown",
      "metadata": {
        "nbgrader": {
          "grade": false,
          "grade_id": "cell-9587aab1c6508a49",
          "locked": true,
          "schema_version": 3,
          "solution": false,
          "task": false
        },
        "id": "5mMNry_w815-"
      },
      "source": [
        "## Q1\n",
        "\n",
        "**Points**: 2\n",
        "\n",
        "Write a function called `yearofdate` that matches the year from a date timestamp\n",
        "\n",
        "Your function should take one parameter, a date string of the format `MM/DD/YYYY`, and it should return the year part (`YYYY`) as an int.\n",
        "\n",
        "### Examples\n",
        "\n",
        "For example, if the date string is `01/21/2018`, then your function should return `2018` (as an int).\n",
        "\n",
        "---\n",
        "\n",
        "This question is worth 2 points:\n",
        "- 1 point for returning the correct year (automatically graded),\n",
        "- 1 point for making use of regular expressions (graded manually by us)."
      ]
    },
    {
      "cell_type": "code",
      "execution_count": null,
      "metadata": {
        "nbgrader": {
          "grade": true,
          "grade_id": "cell-f34beeb61e2454e4",
          "locked": false,
          "points": 1,
          "schema_version": 3,
          "solution": true,
          "task": false
        },
        "scrolled": true,
        "tags": [],
        "id": "b4RiK6yD815-"
      },
      "outputs": [],
      "source": [
        "import re\n",
        "\n",
        "def yearofdate(date_string):\n",
        "..."
      ]
    },
    {
      "cell_type": "markdown",
      "metadata": {
        "deletable": false,
        "editable": false,
        "nbgrader": {
          "grade": false,
          "grade_id": "cell-515c0b3af93d5418",
          "locked": true,
          "schema_version": 3,
          "solution": false,
          "task": false
        },
        "id": "ahICg4ja815-"
      },
      "source": [
        "Use the cell below to run your function and see what it returns. You may want to test different dates to see if your code returns the correct answer."
      ]
    },
    {
      "cell_type": "code",
      "execution_count": null,
      "metadata": {
        "deletable": false,
        "editable": false,
        "id": "27n5-ZIo815_"
      },
      "outputs": [],
      "source": [
        "pattern = '12/12/2012'\n",
        "yearofdate(pattern)"
      ]
    },
    {
      "cell_type": "markdown",
      "metadata": {
        "deletable": false,
        "editable": false,
        "id": "dwlQGCBD815_"
      },
      "source": [
        "When you're ready run the cell below to get feedback on your answer."
      ]
    },
    {
      "cell_type": "code",
      "execution_count": null,
      "metadata": {
        "deletable": false,
        "editable": false,
        "id": "owda0KFI815_"
      },
      "outputs": [],
      "source": [
        "grader.check(\"q1\")"
      ]
    },
    {
      "cell_type": "markdown",
      "metadata": {
        "id": "RDI2XJhD816A"
      },
      "source": [
        "<br/>\n",
        "<br/>\n",
        "<br/>\n",
        "<br/>\n",
        "<br/>\n",
        "<br/>\n",
        "\n",
        "---"
      ]
    },
    {
      "cell_type": "markdown",
      "metadata": {
        "nbgrader": {
          "grade": false,
          "grade_id": "cell-fad7744ab600c6e6",
          "locked": true,
          "schema_version": 3,
          "solution": false,
          "task": false
        },
        "id": "z4hl-H3a816A"
      },
      "source": [
        "## Q2\n",
        "\n",
        "**Points**: 2\n",
        "\n",
        "Write a function called `monthofdate` that matches the month from a date timestamp\n",
        "\n",
        "Your function should take one parameter, a date string of the format `<MONTH> <DAY>, YYYY`, where `<MONTH>` is the name of a month, `<DAY>` is the day number, and `YYYY` is the year, and it should return the month as an int (`1` = January, etc.).\n",
        "\n",
        "### Examples\n",
        "\n",
        "For example, if the date string is `March 8, 2017`, then your function should return `3` (as an int).\n",
        "\n",
        "---\n",
        "\n",
        "This question is worth 2 points:\n",
        "- 1 point for returning the correct month (automatically graded),\n",
        "- 1 point for making use of regular expressions (graded manually by us)."
      ]
    },
    {
      "cell_type": "code",
      "execution_count": null,
      "metadata": {
        "nbgrader": {
          "grade": true,
          "grade_id": "cell-ceaca6c1f47726bc",
          "locked": false,
          "points": 1,
          "schema_version": 3,
          "solution": true,
          "task": false
        },
        "tags": [],
        "id": "MRMGv7aJ816A"
      },
      "outputs": [],
      "source": [
        "import re\n",
        "\n",
        "def monthofdate(date_string):\n",
        "..."
      ]
    },
    {
      "cell_type": "markdown",
      "metadata": {
        "deletable": false,
        "editable": false,
        "nbgrader": {
          "grade": false,
          "grade_id": "cell-a213a117a9c76a25",
          "locked": true,
          "schema_version": 3,
          "solution": false,
          "task": false
        },
        "id": "86AllW9x816A"
      },
      "source": [
        "Use the cell below to run your function and see what it returns. You may want to test different dates to see if your code returns the correct answer."
      ]
    },
    {
      "cell_type": "code",
      "execution_count": null,
      "metadata": {
        "deletable": false,
        "editable": false,
        "id": "6SIxzpgW816A"
      },
      "outputs": [],
      "source": [
        "pattern = 'March 8, 2017'\n",
        "monthofdate(pattern)"
      ]
    },
    {
      "cell_type": "markdown",
      "metadata": {
        "deletable": false,
        "editable": false,
        "id": "SAN2pnuu816B"
      },
      "source": [
        "When you're ready run the cell below to get feedback on your answer."
      ]
    },
    {
      "cell_type": "code",
      "execution_count": null,
      "metadata": {
        "deletable": false,
        "editable": false,
        "id": "ipQbjx1_816B"
      },
      "outputs": [],
      "source": [
        "grader.check(\"q2\")"
      ]
    },
    {
      "cell_type": "markdown",
      "metadata": {
        "id": "vrH95eHQ816B"
      },
      "source": [
        "<br/>\n",
        "<br/>\n",
        "<br/>\n",
        "<br/>\n",
        "<br/>\n",
        "<br/>\n",
        "\n",
        "---"
      ]
    },
    {
      "cell_type": "markdown",
      "metadata": {
        "nbgrader": {
          "grade": false,
          "grade_id": "cell-f457aeeabdc447a1",
          "locked": true,
          "schema_version": 3,
          "solution": false,
          "task": false
        },
        "id": "HoQJCXSJ816B"
      },
      "source": [
        "## Q3\n",
        "\n",
        "**Points**: 2\n",
        "\n",
        "Write a function called `emailuppercase` that converts the domain name of an email address to uppercase characters.\n",
        "\n",
        "Your function should take one parameter, an email address and should return the same address, but with the domain name part (i.e., what is after the `@`) in upper case.\n",
        "\n",
        "### Examples\n",
        "\n",
        "For example, if the email is `gciampag@umd.edu`, then your function should return `gciampag@UMD.EDU`.\n",
        "\n",
        "### Hint\n",
        "\n",
        "Consider using the `re.sub` function, see documentation: https://docs.python.org/3.11/library/re.html#re.sub\n",
        "\n",
        "---\n",
        "\n",
        "This question is worth 2 points:\n",
        "- 1 point for returning the email address (automatically graded),\n",
        "- 1 point for making use of regular expressions (graded manually by us)."
      ]
    },
    {
      "cell_type": "code",
      "execution_count": null,
      "metadata": {
        "nbgrader": {
          "grade": true,
          "grade_id": "cell-ff1732a5bd404f06",
          "locked": false,
          "points": 1,
          "schema_version": 3,
          "solution": true,
          "task": false
        },
        "tags": [],
        "id": "G00K4PPN816B"
      },
      "outputs": [],
      "source": [
        "import re\n",
        "\n",
        "def emailuppercase(email):\n",
        "..."
      ]
    },
    {
      "cell_type": "markdown",
      "metadata": {
        "deletable": false,
        "editable": false,
        "nbgrader": {
          "grade": false,
          "grade_id": "cell-dd4db7c006805e1c",
          "locked": true,
          "schema_version": 3,
          "solution": false,
          "task": false
        },
        "id": "tZSll9_m816B"
      },
      "source": [
        "Use the cell below to run your function and see what it returns. You may want to test different dates to see if your code returns the correct answer."
      ]
    },
    {
      "cell_type": "code",
      "execution_count": null,
      "metadata": {
        "deletable": false,
        "editable": false,
        "id": "9hvkFfyG816C"
      },
      "outputs": [],
      "source": [
        "pattern = 'gciampag@umd.edu'\n",
        "emailuppercase(pattern)"
      ]
    },
    {
      "cell_type": "markdown",
      "metadata": {
        "deletable": false,
        "editable": false,
        "id": "WO0et3Zv816C"
      },
      "source": [
        "When you're ready run the cell below to get feedback on your answer."
      ]
    },
    {
      "cell_type": "code",
      "execution_count": null,
      "metadata": {
        "deletable": false,
        "editable": false,
        "id": "rkR3n5dN816C"
      },
      "outputs": [],
      "source": [
        "grader.check(\"q3\")"
      ]
    },
    {
      "cell_type": "markdown",
      "metadata": {
        "id": "Jcth7M35816C"
      },
      "source": [
        "<br/>\n",
        "<br/>\n",
        "<br/>\n",
        "<br/>\n",
        "<br/>\n",
        "<br/>\n",
        "\n",
        "---"
      ]
    },
    {
      "cell_type": "markdown",
      "metadata": {
        "nbgrader": {
          "grade": false,
          "grade_id": "cell-ce6da63ca060753a",
          "locked": true,
          "schema_version": 3,
          "solution": false,
          "task": false
        },
        "id": "c2x_cms_816C"
      },
      "source": [
        "## Q4\n",
        "\n",
        "**Points**: 2\n",
        "\n",
        "Write a function called `ssnredacter` that redacts a social security number.\n",
        "\n",
        "Your function should take one parameter, a string with a social security number with format `NNN-NN-NNNN` and should return the same number, but with the first 5 digits replaced with asterisks (`*`).\n",
        "\n",
        "### Examples\n",
        "\n",
        "For example, if the SSN is `111-11-1111`, then your function should return `***-**-1111`.\n",
        "\n",
        "### Hint\n",
        "\n",
        "Consider using the `re.sub` function, see documentation: https://docs.python.org/3.11/library/re.html#re.sub\n",
        "\n",
        "---\n",
        "\n",
        "This question is worth 2 points:\n",
        "- 1 point for returning the correct SSN (automatically graded),\n",
        "- 1 point for making use of regular expressions (graded manually by us)."
      ]
    },
    {
      "cell_type": "code",
      "execution_count": null,
      "metadata": {
        "nbgrader": {
          "grade": true,
          "grade_id": "cell-5f64551f822c8d2d",
          "locked": false,
          "points": 1,
          "schema_version": 3,
          "solution": true,
          "task": false
        },
        "tags": [],
        "id": "ZTgxLDWi816C"
      },
      "outputs": [],
      "source": [
        "import re\n",
        "\n",
        "def ssnredacter(ssn):\n",
        "..."
      ]
    },
    {
      "cell_type": "markdown",
      "metadata": {
        "deletable": false,
        "editable": false,
        "nbgrader": {
          "grade": false,
          "grade_id": "cell-7b632f956e9c1840",
          "locked": true,
          "schema_version": 3,
          "solution": false,
          "task": false
        },
        "id": "4sqrnWth816C"
      },
      "source": [
        "Use the cell below to run your function and see what it returns. You may want to test different dates to see if your code returns the correct answer."
      ]
    },
    {
      "cell_type": "code",
      "execution_count": null,
      "metadata": {
        "deletable": false,
        "editable": false,
        "id": "shSas0CR816D"
      },
      "outputs": [],
      "source": [
        "pattern = '111-11-1111'\n",
        "ssnredacter(pattern)"
      ]
    },
    {
      "cell_type": "markdown",
      "metadata": {
        "deletable": false,
        "editable": false,
        "id": "oapuGWNA816D"
      },
      "source": [
        "When you're ready run the cell below to get feedback on your answer."
      ]
    },
    {
      "cell_type": "code",
      "execution_count": null,
      "metadata": {
        "deletable": false,
        "editable": false,
        "id": "Lh-dHsZr816D"
      },
      "outputs": [],
      "source": [
        "grader.check(\"q4\")"
      ]
    },
    {
      "cell_type": "markdown",
      "metadata": {
        "id": "TK7pOAvG816D"
      },
      "source": [
        "<br/>\n",
        "<br/>\n",
        "<br/>\n",
        "<br/>\n",
        "<br/>\n",
        "<br/>\n",
        "\n",
        "---"
      ]
    },
    {
      "cell_type": "markdown",
      "metadata": {
        "deletable": false,
        "editable": false,
        "id": "9Mrbp-dT816D"
      },
      "source": [
        "## Submission\n",
        "\n",
        "Don't forget to run all cells in your notebook and then save it. To save, click on *File*, then select *Save/Save Notebook*. After that, download the notebook by going to *File*, then *Download* (for Anaconda notebook), or choosing *Download .ipynb* (for Colab). Finally, submit the notebook on Gradescope using the link found on ELMS."
      ]
    }
  ],
  "metadata": {
    "celltoolbar": "Create Assignment",
    "kernelspec": {
      "display_name": "Python 3 (ipykernel)",
      "language": "python",
      "name": "python3"
    },
    "language_info": {
      "codemirror_mode": {
        "name": "ipython",
        "version": 3
      },
      "file_extension": ".py",
      "mimetype": "text/x-python",
      "name": "python",
      "nbconvert_exporter": "python",
      "pygments_lexer": "ipython3",
      "version": "3.11.7"
    },
    "otter": {
      "OK_FORMAT": true,
      "tests": {
        "q1": {
          "name": "q1",
          "points": null,
          "suites": [
            {
              "cases": [
                {
                  "code": ">>> assert type(yearofdate('12/12/2012')) == int, 'For input 12/12/2012, the function should return an integer, but found ' + str(type(yearofdate('12/12/2012')))\n",
                  "hidden": false,
                  "locked": false
                },
                {
                  "code": ">>> assert yearofdate('12/12/2012') == 2012, 'For input 12/12/2012, the function should return 2012, but found ' + str(yearofdate('12/12/2012'))\n",
                  "hidden": false,
                  "locked": false
                },
                {
                  "code": ">>> assert yearofdate('03/03/2024') == 2024, 'For input 03/03/2024, the function should return 2024, but found ' + str(yearofdate('03/03/2024'))\n",
                  "hidden": false,
                  "locked": false
                }
              ],
              "scored": true,
              "setup": "",
              "teardown": "",
              "type": "doctest"
            }
          ]
        },
        "q2": {
          "name": "q2",
          "points": null,
          "suites": [
            {
              "cases": [
                {
                  "code": ">>> assert type(monthofdate('March 8, 2017')) == int, 'For input March 8, 2017, the function should return an integer, but found ' + str(type(monthofdate('March 8, 2017')))\n",
                  "hidden": false,
                  "locked": false
                },
                {
                  "code": ">>> assert monthofdate('March 8, 2017') == 3, 'For input March 8, 2017, the function should return 3, but found ' + str(monthofdate('March 8, 2017'))\n",
                  "hidden": false,
                  "locked": false
                },
                {
                  "code": ">>> assert monthofdate('May 3, 2019') == 5, 'For input May 3, 2019, the function should return 5, but found ' + str(monthofdate('May 3, 2019'))\n",
                  "hidden": false,
                  "locked": false
                }
              ],
              "scored": true,
              "setup": "",
              "teardown": "",
              "type": "doctest"
            }
          ]
        },
        "q3": {
          "name": "q3",
          "points": null,
          "suites": [
            {
              "cases": [
                {
                  "code": ">>> assert emailuppercase('gciampag@umd.edu') == 'gciampag@UMD.EDU', 'For input gciampag@umd.edu, the function should return gciampag@UMD.EDU, but found ' + str(emailuppercase('gciampag@umd.edu'))\n",
                  "hidden": false,
                  "locked": false
                },
                {
                  "code": ">>> assert emailuppercase('student1@terpmail.umd.edu') == 'student1@TERPMAIL.UMD.EDU', 'For input student1@terpmail.umd.edu, the function should return student1@TERPMAIL.UMD.EDU, but found ' + str(emailuppercase('student1@terpmail.umd.edu'))\n",
                  "hidden": false,
                  "locked": false
                }
              ],
              "scored": true,
              "setup": "",
              "teardown": "",
              "type": "doctest"
            }
          ]
        },
        "q4": {
          "name": "q4",
          "points": null,
          "suites": [
            {
              "cases": [
                {
                  "code": ">>> assert ssnredacter('111-11-1111') == '***-**-1111', 'For input 111-11-1111, the function should return ***-**-1111, but found ' + str(ssnredacter('111-11-1111'))\n",
                  "hidden": false,
                  "locked": false
                },
                {
                  "code": ">>> assert ssnredacter('999-19-1919') == '***-**-1919', 'For input 999-19-1919, the function should return ***-**-1919, but found ' + str(ssnredacter('999-19-1919'))\n",
                  "hidden": false,
                  "locked": false
                }
              ],
              "scored": true,
              "setup": "",
              "teardown": "",
              "type": "doctest"
            }
          ]
        }
      }
    },
    "colab": {
      "provenance": []
    }
  },
  "nbformat": 4,
  "nbformat_minor": 0
}