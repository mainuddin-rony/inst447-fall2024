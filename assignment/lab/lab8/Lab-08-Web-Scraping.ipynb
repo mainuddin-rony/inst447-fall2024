{
 "cells": [
  {
   "cell_type": "markdown",
   "metadata": {
    "collapsed": true,
    "jupyter": {
     "outputs_hidden": true
    },
    "nbgrader": {
     "grade": false,
     "grade_id": "cell-b281c94847b72202",
     "locked": true,
     "schema_version": 3,
     "solution": false,
     "task": false
    }
   },
   "source": [
    "# Lab 8 Web Scraping [Total: 3 points]\n",
    "\n",
    "The purpose of this assignment is for you to engage with a concrete web scraping task. This will be accomplished through a coding assignment. You will carry out this task in the present notebook and use the notebook to document the various steps of the exercise and to answer all questions.\n",
    "\n",
    "\n",
    "## Required skills\n",
    "\n",
    "This lab will let you practice the following skills:\n",
    "- Download HTML\n",
    "- Parse HTML\n",
    "\n",
    "A few additional resources can be found here:\n",
    "- https://docs.python-requests.org/\n",
    "- https://beautiful-soup-4.readthedocs.io"
   ]
  },
  {
   "cell_type": "markdown",
   "metadata": {},
   "source": [
    "## Important\n",
    "* Please ensure that you run the following two cells below before running any others. This will download all required files, as well as install the necessary packages to ensure the code runs successfully. If you restart the kernel or your runtime session (in Colab), be sure to rerun this cell before running any others.\n",
    "* This assignment recommends using Google Colab. If you are using Anaconda Jupyter notebook/lab, please ensure that **this notebook is kept in a new folder**. This is because the following commands will **delete all files with the extensions .csv and .py** before downloading the required files."
   ]
  },
  {
   "cell_type": "code",
   "execution_count": null,
   "metadata": {},
   "outputs": [],
   "source": [
    "# Installing Otter-Grader and downloading required files\n",
    "required_files = \"https://github.com/mainuddin-rony/inst447-fall2024/raw/main/assignment/lab/lab8/required_files.zip\"\n",
    "! rm -rf tests\n",
    "! rm -f required_files.zip *.csv *.py ._*.csv\n",
    "! wget $required_files && unzip -j required_files.zip\n",
    "! mkdir tests && mv *.py tests\n",
    "! pip install otter-grader==5.7.1"
   ]
  },
  {
   "cell_type": "code",
   "execution_count": null,
   "metadata": {},
   "outputs": [],
   "source": [
    "# Initialize Otter\n",
    "import otter\n",
    "grader = otter.Notebook()"
   ]
  },
  {
   "cell_type": "markdown",
   "metadata": {
    "nbgrader": {
     "grade": false,
     "grade_id": "cell-4b60f94bb3daf986",
     "locked": true,
     "schema_version": 3,
     "solution": false,
     "task": false
    }
   },
   "source": [
    "## Q1\n",
    "\n",
    "**Points**: 1\n",
    "\n",
    "Write a function `gettextbytag` that extracts all the text of a given HTML tag within an HTML file. Your function should accept 2 arguments -- the name of an HTML file as a string, and the name of an HTML tag as a string.\n",
    "\n",
    "It should return a list of string, where for each occurrence of the tag in the file, it should include the text of the tag.\n",
    "\n",
    "For example, if the file `q1file.html` is:\n",
    "\n",
    "```html\n",
    "<!DOCTYPE html>\n",
    "<html>\n",
    "<head>\n",
    "<title>Page Title</title>\n",
    "</head>\n",
    "<body>\n",
    "\n",
    "<h1>This is a Heading</h1>\n",
    "<p class=\"firstpara\">This is first paragraph.</p>\n",
    "<p>This is second paragraph.</p>\n",
    "<p id=\"third\">This is third paragraph.</p>\n",
    "\n",
    "</body>\n",
    "</html>\n",
    "```\n",
    "\n",
    "and the tag is `\"h1\"`, then your function should return\n",
    "```\n",
    "['This is a Heading']\n",
    "```"
   ]
  },
  {
   "cell_type": "code",
   "execution_count": null,
   "metadata": {
    "nbgrader": {
     "grade": false,
     "grade_id": "cell-71eac3701300965f",
     "locked": false,
     "schema_version": 3,
     "solution": true,
     "task": false
    },
    "tags": []
   },
   "outputs": [],
   "source": [
    "from bs4 import BeautifulSoup\n",
    "\n",
    "def gettextbytag(html_file, tag_name):\n",
    "..."
   ]
  },
  {
   "cell_type": "markdown",
   "metadata": {
    "deletable": false,
    "editable": false,
    "nbgrader": {
     "grade": false,
     "grade_id": "cell-f7cfc973121ea8aa",
     "locked": true,
     "schema_version": 3,
     "solution": false,
     "task": false
    }
   },
   "source": [
    "Use the cell below to run your function and see what it returns. You may want to test different dates to see if your code returns the correct answer."
   ]
  },
  {
   "cell_type": "code",
   "execution_count": null,
   "metadata": {
    "deletable": false,
    "editable": false
   },
   "outputs": [],
   "source": [
    "gettextbytag(\"q1file.html\", \"a\")"
   ]
  },
  {
   "cell_type": "markdown",
   "metadata": {
    "deletable": false,
    "editable": false
   },
   "source": [
    "When you're ready, run the cell below to get feedback on your answer."
   ]
  },
  {
   "cell_type": "code",
   "execution_count": null,
   "metadata": {
    "deletable": false,
    "editable": false
   },
   "outputs": [],
   "source": [
    "grader.check(\"q1\")"
   ]
  },
  {
   "cell_type": "markdown",
   "metadata": {},
   "source": [
    "<br/>\n",
    "<br/>\n",
    "<br/>\n",
    "<br/>\n",
    "<br/>\n",
    "<br/>\n",
    "\n",
    "---"
   ]
  },
  {
   "cell_type": "markdown",
   "metadata": {
    "nbgrader": {
     "grade": false,
     "grade_id": "cell-1be21350cbd12b20",
     "locked": true,
     "schema_version": 3,
     "solution": false,
     "task": false
    }
   },
   "source": [
    "## Q2\n",
    "\n",
    "__Points__: 1\n",
    "\n",
    "Write a function called `getbooksprice` that scrapes prices of books from the front page of the website [books.toscrape.com](//books.toscrape.com).\n",
    "\n",
    "Your function should take no parameter. It should fetch the front page of the website, and it should return a Python list of float values with the price (in pounds) of the books in it.\n",
    "\n",
    "**Hint**: if you see the symbol `Â` being printed in the price, then make sure to set the encoding from the response, like this:\n",
    "```\n",
    "    response = requests.get(\"https://books.toscrape.com/\")\n",
    "    response.encoding = 'utf-8'\n",
    "```\n",
    "before extracting the text from the response object."
   ]
  },
  {
   "cell_type": "code",
   "execution_count": null,
   "metadata": {
    "nbgrader": {
     "grade": false,
     "grade_id": "cell-be041ec63b431940",
     "locked": false,
     "schema_version": 3,
     "solution": true,
     "task": false
    },
    "tags": []
   },
   "outputs": [],
   "source": [
    "from bs4 import BeautifulSoup\n",
    "import requests \n",
    "\n",
    "def getbooksprice():\n",
    "..."
   ]
  },
  {
   "cell_type": "markdown",
   "metadata": {
    "deletable": false,
    "editable": false,
    "nbgrader": {
     "grade": false,
     "grade_id": "cell-e747f11e285b2098",
     "locked": true,
     "schema_version": 3,
     "solution": false,
     "task": false
    }
   },
   "source": [
    "Use the cell below to run your function and see what it returns."
   ]
  },
  {
   "cell_type": "code",
   "execution_count": null,
   "metadata": {
    "deletable": false,
    "editable": false
   },
   "outputs": [],
   "source": [
    "getbooksprice()"
   ]
  },
  {
   "cell_type": "markdown",
   "metadata": {
    "deletable": false,
    "editable": false
   },
   "source": [
    "When you're ready, run the cell below to get feedback on your answer."
   ]
  },
  {
   "cell_type": "code",
   "execution_count": null,
   "metadata": {
    "deletable": false,
    "editable": false
   },
   "outputs": [],
   "source": [
    "grader.check(\"q2\")"
   ]
  },
  {
   "cell_type": "markdown",
   "metadata": {},
   "source": [
    "<br/>\n",
    "<br/>\n",
    "<br/>\n",
    "<br/>\n",
    "<br/>\n",
    "<br/>\n",
    "\n",
    "---"
   ]
  },
  {
   "cell_type": "markdown",
   "metadata": {
    "nbgrader": {
     "grade": false,
     "grade_id": "cell-7c60cfb18209ef74",
     "locked": true,
     "schema_version": 3,
     "solution": false,
     "task": false
    }
   },
   "source": [
    "## Q3\n",
    "\n",
    "__Points__: 1\n",
    "\n",
    "Write a function called `getbookspricebonus` scrapes the prices of all the books on the website catalog, not just the front page. Your function should fetch one page at a time, scrape the book prices, and append them to the final array or list. Besides from the front page there are 50 additional pages of book catalog, each with 20 books, so the website contains exactly 1020 books in total, and so this is the size of the array that you should return.\n",
    "\n",
    "**Hint 1**: if you see the symbol `Â` being printed in the price, then make sure to set the encoding from the response, like this:\n",
    "```\n",
    "    response = requests.get(\"https://books.toscrape.com/\")\n",
    "    response.encoding = 'utf-8'\n",
    "```\n",
    "before extracting the text from the response object.\n",
    "\n",
    "**Hint 2**: Each additional catalog page is located at the following URL:\n",
    "\n",
    "    https://books.toscrape.com/catalogue/page-XX.html\n",
    "    \n",
    "Where `XX` ranges from 1 to 50."
   ]
  },
  {
   "cell_type": "code",
   "execution_count": null,
   "metadata": {
    "nbgrader": {
     "grade": false,
     "grade_id": "cell-de1e5f76808b7208",
     "locked": false,
     "schema_version": 3,
     "solution": true,
     "task": false
    },
    "tags": []
   },
   "outputs": [],
   "source": [
    "from bs4 import BeautifulSoup\n",
    "import requests \n",
    "import numpy as np\n",
    "\n",
    "def getbookspricebonus():\n",
    "..."
   ]
  },
  {
   "cell_type": "markdown",
   "metadata": {
    "deletable": false,
    "editable": false,
    "nbgrader": {
     "grade": false,
     "grade_id": "cell-9dd2dca0e86fdc87",
     "locked": true,
     "schema_version": 3,
     "solution": false,
     "task": false
    }
   },
   "source": [
    "Use the cell below to run your function and see what it returns. "
   ]
  },
  {
   "cell_type": "code",
   "execution_count": null,
   "metadata": {
    "deletable": false,
    "editable": false
   },
   "outputs": [],
   "source": [
    "getbookspricebonus()"
   ]
  },
  {
   "cell_type": "markdown",
   "metadata": {
    "deletable": false,
    "editable": false
   },
   "source": [
    "When you're ready, run the cell below to get feedback on your answer."
   ]
  },
  {
   "cell_type": "code",
   "execution_count": null,
   "metadata": {
    "deletable": false,
    "editable": false
   },
   "outputs": [],
   "source": [
    "grader.check(\"q3\")"
   ]
  },
  {
   "cell_type": "markdown",
   "metadata": {},
   "source": [
    "<br/>\n",
    "<br/>\n",
    "<br/>\n",
    "<br/>\n",
    "<br/>\n",
    "<br/>\n",
    "\n",
    "---"
   ]
  },
  {
   "cell_type": "markdown",
   "metadata": {
    "deletable": false,
    "editable": false
   },
   "source": [
    "## Submission\n",
    "\n",
    "Don't forget to run all cells in your notebook and then save it. To save, click on *File*, then select *Save/Save Notebook*. After that, download the notebook by going to *File --> Download* (for Anaconda Notebook) or *File --> Download .ipynb* (for Colab). Finally, submit the notebook on Gradescope using the link found on ELMS."
   ]
  },
  {
   "cell_type": "markdown",
   "metadata": {},
   "source": [
    " "
   ]
  }
 ],
 "metadata": {
  "celltoolbar": "Create Assignment",
  "kernelspec": {
   "display_name": "Python 3 (ipykernel)",
   "language": "python",
   "name": "python3"
  },
  "language_info": {
   "codemirror_mode": {
    "name": "ipython",
    "version": 3
   },
   "file_extension": ".py",
   "mimetype": "text/x-python",
   "name": "python",
   "nbconvert_exporter": "python",
   "pygments_lexer": "ipython3",
   "version": "3.11.7"
  },
  "otter": {
   "OK_FORMAT": false,
   "tests": {
    "q1": "from otter.test_files import test_case\n\nOK_FORMAT = False\n\nname = \"q1\"\npoints = None\n\n@test_case(points=None, hidden=False)\ndef test1_gettextbytag(gettextbytag):\n    assert gettextbytag(\"q1file.html\", \"h1\") == [\"This is a Heading\"], \"For the file 'q1file.html1', and the tag 'h1', the fuction should return ['This is a Heading'], but found \" + str(gettextbytag(\"q1file.html\", \"h1\"))\n    assert gettextbytag(\"q1file.html\", \"p\") == ['This is first paragraph.', 'This is second paragraph.', 'This is third paragraph.'], \"For the file 'q1file.html', and the tag 'p', the fuction should return ['This is first paragraph.', 'This is second paragraph.', 'This is third paragraph.'], but found \" + str(gettextbytag(\"q1file.html\", \"p\"))\n    assert gettextbytag(\"q1file.html\", \"a\") == [], \"For the file 'q1file.html1', and the tag 'a', the fuction should return an empty list, but found \" + str(gettextbytag(\"q1file.html\", \"a\"))\n\n",
    "q2": "from otter.test_files import test_case\n\nOK_FORMAT = False\n\nname = \"q2\"\npoints = None\n\n@test_case(points=None, hidden=False)\ndef test1_getbooksprice(getbooksprice):\n    assert type(getbooksprice()) is list, \"Error: Your solution should return a list, while it found a \" + str(type(getbooksprice()))\n    assert getbooksprice() == [51.77, 53.74, 50.1, 47.82, 54.23, 22.65, 33.34, 17.93, 22.6, 52.15, 13.99, 20.66, 17.46, 52.29, 35.02, 57.25, 23.88, 37.59, 51.33, 45.17], \"Error: Your solution return [51.77, 53.74, 50.1, 47.82, 54.23, 22.65, 33.34, 17.93, 22.6, 52.15, 13.99, 20.66, 17.46, 52.29, 35.02, 57.25, 23.88, 37.59, 51.33, 45.17], but found \" + str(getbooksprice())\n\n",
    "q3": "from otter.test_files import test_case\n\nOK_FORMAT = False\n\nname = \"q3\"\npoints = None\n\n@test_case(points=None, hidden=False)\ndef test1_getbookspricebonus(getbookspricebonus):\n    import numpy as np\n    from numpy.testing import assert_array_equal\n    \n    q3CORRECT_ANS = np.loadtxt('solutionq3.txt')\n    q3STUDENT_ANS = getbookspricebonus()\n    \n    assert type(q3STUDENT_ANS) is np.ndarray, f\"Error: Your solution returned a {type(q3STUDENT_ANS)}, while it should return a numpy Array\"\n    assert_array_equal(q3STUDENT_ANS, q3CORRECT_ANS)\n\n"
   }
  }
 },
 "nbformat": 4,
 "nbformat_minor": 4
}
