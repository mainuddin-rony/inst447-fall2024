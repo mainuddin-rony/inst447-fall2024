{
  "cells": [
    {
      "cell_type": "markdown",
      "source": [
        "# LAB 2:  Campaign Financial Contributions [Total: 8 points]\n",
        "\n",
        "## Instructions\n",
        "\n",
        "The purpose of this assignment is for you to engage with a concrete data cleaning task. This will be accomplished through a coding assignment. You will carry out this task in the present notebook, and use the notebook to document the various steps of the exercise and to answer all questions.\n",
        "\n",
        "In particular, we will be cleaning up some campaign donation data. The DC government makes data about campaign contribution (i.e. donations) available online to the general public on its website [opendata.dc.gov](https://opendata.dc.gov). The website does not provide very much documentation about the data.\n",
        "\n",
        "We have created a smaller sample (`Campaign_Financial_Contributions_Sample.csv`) of this data for you to explore and clean. Follow the instructions in each question, and answer the accompanying questions. Note that some of the questions will require you to write a Python function to compute the correct answer.\n"
      ],
      "metadata": {
        "id": "pvHJtgGeu5dg"
      },
      "id": "pvHJtgGeu5dg"
    },
    {
      "cell_type": "markdown",
      "source": [
        "## Important Warning\n",
        "* Please ensure that you run the cell below before running any others. This will download all required files and packages, as well as installing the necessary packages to ensure the code runs successfully. If you restart the kernel or your runtime session (in Colab), be sure to rerun this cell before running any others.\n",
        "* This assignment recommends using **Google Colab**. If you are using Anaconda Jupyter notebook/lab, please ensure that **this notebook is kept in a new folder**. This is because the following commands will delete all files with the extensions .csv and .py before downloading the required files."
      ],
      "metadata": {
        "id": "Yj1X4MHSvrQ9"
      },
      "id": "Yj1X4MHSvrQ9"
    },
    {
      "cell_type": "code",
      "source": [
        "required_files = \"https://github.com/mainuddin-rony/inst447-fall2024/raw/main/assignment/lab/lab2/required_files.zip\"\n",
        "! rm -rf tests\n",
        "! rm -f required_files.zip *.csv *.py\n",
        "! wget $required_files && unzip -j required_files.zip\n",
        "! mkdir tests && mv *.py tests\n",
        "! pip install otter-grader==5.5.0"
      ],
      "metadata": {
        "id": "sCYxeAMxwMCD"
      },
      "id": "sCYxeAMxwMCD",
      "execution_count": null,
      "outputs": []
    },
    {
      "cell_type": "code",
      "execution_count": null,
      "id": "c0ffd48d",
      "metadata": {
        "deletable": false,
        "editable": false,
        "id": "c0ffd48d"
      },
      "outputs": [],
      "source": [
        "# Initialize Otter\n",
        "import otter\n",
        "grader = otter.Notebook()"
      ]
    },
    {
      "cell_type": "markdown",
      "id": "332910f1",
      "metadata": {
        "nbgrader": {
          "grade": false,
          "grade_id": "cell-c68aa45412f63e61",
          "locked": true,
          "schema_version": 3,
          "solution": false,
          "task": false
        },
        "id": "332910f1"
      },
      "source": [
        "# Part A: Inspecting the data frame\n",
        "\n",
        "The first set of questions will ask you to inspect the data. Feel free to add new code cells and make sure to comment your code with markdown cells to describe your process of reaching the answer."
      ]
    },
    {
      "cell_type": "markdown",
      "id": "f16d1ab8",
      "metadata": {
        "nbgrader": {
          "grade": false,
          "grade_id": "cell-9cf6649af0e8c1f2",
          "locked": true,
          "schema_version": 3,
          "solution": false,
          "task": false
        },
        "id": "f16d1ab8"
      },
      "source": [
        "## Q1 (Manual Grading)\n",
        "\n",
        "**Points:** 1\n",
        "\n",
        "**Question:** Read the sample campaign contribution data into a pandas data frame. Inspect the columns and cells of the data set. What is most likely the column name of the variable which has the method of payment in which the donation/contribution was made?\n",
        "\n",
        "1. `GIS_LAST_MOD_DTTM`\n",
        "\n",
        "2. `DATEOFRECEIPT`\n",
        "\n",
        "3. `CONTRIBUTIONTYPE`\n",
        "\n",
        "Write down the correct answer in the following cell."
      ]
    },
    {
      "cell_type": "markdown",
      "id": "7cf2cdbc",
      "metadata": {
        "nbgrader": {
          "grade": true,
          "grade_id": "cell-8ae0910c0242733a",
          "locked": false,
          "points": 1,
          "schema_version": 3,
          "solution": true,
          "task": false
        },
        "id": "7cf2cdbc"
      },
      "source": []
    },
    {
      "cell_type": "markdown",
      "id": "e6c8bf3b",
      "metadata": {
        "nbgrader": {
          "grade": false,
          "grade_id": "cell-a7622e9a50a5d90d",
          "locked": true,
          "schema_version": 3,
          "solution": false,
          "task": false
        },
        "id": "e6c8bf3b"
      },
      "source": [
        "## Q2 (Auto Grading)\n",
        "\n",
        "**Points:** 1\n",
        "\n",
        "**Question:** How many donations (rows) in this dataset are from corporations?\n",
        "\n",
        "Write a function called `numdoncorp()` the function should take as parameter the name of the file with data and it should return the answer to the question as an int."
      ]
    },
    {
      "cell_type": "code",
      "execution_count": null,
      "id": "e0f7984d",
      "metadata": {
        "nbgrader": {
          "grade": false,
          "grade_id": "cell-204e2b38050f2852",
          "locked": false,
          "schema_version": 3,
          "solution": true,
          "task": false
        },
        "tags": [],
        "id": "e0f7984d"
      },
      "outputs": [],
      "source": [
        "import pandas as pd\n",
        "\n",
        "def numdoncorp(path):\n",
        "..."
      ]
    },
    {
      "cell_type": "code",
      "execution_count": null,
      "id": "0d51b3b9",
      "metadata": {
        "tags": [],
        "id": "0d51b3b9"
      },
      "outputs": [],
      "source": [
        "numdoncorp(\"Campaign_Financial_Contributions_Sample.csv\")"
      ]
    },
    {
      "cell_type": "markdown",
      "id": "29564206",
      "metadata": {
        "deletable": false,
        "editable": false,
        "nbgrader": {
          "grade": false,
          "grade_id": "cell-2f76a937e0b0923f",
          "locked": true,
          "schema_version": 3,
          "solution": false,
          "task": false
        },
        "id": "29564206"
      },
      "source": [
        "When you're ready run the cell below to get feedback on your answer."
      ]
    },
    {
      "cell_type": "code",
      "execution_count": null,
      "id": "4d11865b",
      "metadata": {
        "deletable": false,
        "editable": false,
        "id": "4d11865b"
      },
      "outputs": [],
      "source": [
        "grader.check(\"q2\")"
      ]
    },
    {
      "cell_type": "markdown",
      "id": "7d2dfc6e",
      "metadata": {
        "nbgrader": {
          "grade": false,
          "grade_id": "cell-ae0a9d54b1f0279b",
          "locked": true,
          "schema_version": 3,
          "solution": false,
          "task": false
        },
        "id": "7d2dfc6e"
      },
      "source": [
        "## Q3 (Manual Grading)\n",
        "\n",
        "**Points:** 1\n",
        "\n",
        "**Question:** True or False: The campaign contribution data set is structured data.\n",
        "\n",
        "1. True\n",
        "2. False\n",
        "\n",
        "Write down the answer in the following cell."
      ]
    },
    {
      "cell_type": "markdown",
      "id": "1ad79b62",
      "metadata": {
        "nbgrader": {
          "grade": true,
          "grade_id": "cell-3493f850bbda4a9b",
          "locked": false,
          "points": 1,
          "schema_version": 3,
          "solution": true,
          "task": false
        },
        "id": "1ad79b62"
      },
      "source": []
    },
    {
      "cell_type": "markdown",
      "id": "465ef578",
      "metadata": {
        "nbgrader": {
          "grade": false,
          "grade_id": "cell-6a8cdd4d8143049f",
          "locked": true,
          "schema_version": 3,
          "solution": false,
          "task": false
        },
        "id": "465ef578"
      },
      "source": [
        "# Part B: cleaning inconsistent records\n",
        "\n",
        "The next set of questions will ask you to clean the dataframe before computing the desired value."
      ]
    },
    {
      "cell_type": "markdown",
      "id": "b0f7171f",
      "metadata": {
        "nbgrader": {
          "grade": false,
          "grade_id": "cell-16508216beb0810a",
          "locked": true,
          "schema_version": 3,
          "solution": false,
          "task": false
        },
        "id": "b0f7171f"
      },
      "source": [
        "## Q4 (Auto Grading)\n",
        "\n",
        "**Points:** 1\n",
        "\n",
        "**Question:**  What is the minimum donation amount (do not round)? Note that in this an the following questions, any donation amounts of 0 are likely mistakes and are NOT acceptable answers because donors cannot give a $0 donation. Since there are some donations with 0 amount, filter these rows.\n",
        "\n",
        "Write a function called `findLeastAmount()`. the function should take as parameter the name of the file with data and it should return the exact value and not round off value as the answer."
      ]
    },
    {
      "cell_type": "code",
      "execution_count": null,
      "id": "8b7352f1",
      "metadata": {
        "nbgrader": {
          "grade": false,
          "grade_id": "cell-c327a2f8aad63694",
          "locked": false,
          "schema_version": 3,
          "solution": true,
          "task": false
        },
        "tags": [],
        "id": "8b7352f1"
      },
      "outputs": [],
      "source": [
        "import pandas as pd\n",
        "\n",
        "def findLeastAmount(path):\n",
        "..."
      ]
    },
    {
      "cell_type": "code",
      "execution_count": null,
      "id": "8c65b4f0",
      "metadata": {
        "tags": [],
        "id": "8c65b4f0"
      },
      "outputs": [],
      "source": [
        "findLeastAmount(\"Campaign_Financial_Contributions_Sample.csv\")"
      ]
    },
    {
      "cell_type": "markdown",
      "id": "d258d81b",
      "metadata": {
        "deletable": false,
        "editable": false,
        "nbgrader": {
          "grade": false,
          "grade_id": "cell-56915c65878bc452",
          "locked": true,
          "schema_version": 3,
          "solution": false,
          "task": false
        },
        "id": "d258d81b"
      },
      "source": [
        "When you're ready run the cell below to get feedback on your answer."
      ]
    },
    {
      "cell_type": "code",
      "execution_count": null,
      "id": "2688995e",
      "metadata": {
        "deletable": false,
        "editable": false,
        "id": "2688995e"
      },
      "outputs": [],
      "source": [
        "grader.check(\"q4\")"
      ]
    },
    {
      "cell_type": "markdown",
      "id": "6fec9073",
      "metadata": {
        "nbgrader": {
          "grade": false,
          "grade_id": "cell-caf05a4b06513e65",
          "locked": true,
          "schema_version": 3,
          "solution": false,
          "task": false
        },
        "id": "6fec9073"
      },
      "source": [
        "## Q5 (Auto Grading)\n",
        "\n",
        "<div class=\"alert alert-warning\">Make sure to apply the same cleaning step from Q4</div>\n",
        "\n",
        "**Points:** 1\n",
        "\n",
        "**Question:** What is the maximum donation amount?\n",
        "\n",
        "Write a function called `findMaxAmount()`. the function should take as parameter the name of the file with data and it should return the exact value and not round off value as the answer."
      ]
    },
    {
      "cell_type": "code",
      "execution_count": null,
      "id": "f096da24",
      "metadata": {
        "nbgrader": {
          "grade": false,
          "grade_id": "cell-0ae4dd323e3bd5e6",
          "locked": false,
          "schema_version": 3,
          "solution": true,
          "task": false
        },
        "tags": [],
        "id": "f096da24"
      },
      "outputs": [],
      "source": [
        "import pandas as pd\n",
        "\n",
        "def findMaxAmount(path):\n",
        "..."
      ]
    },
    {
      "cell_type": "code",
      "execution_count": null,
      "id": "6472af7e",
      "metadata": {
        "tags": [],
        "id": "6472af7e"
      },
      "outputs": [],
      "source": [
        "findMaxAmount(\"Campaign_Financial_Contributions_Sample.csv\")"
      ]
    },
    {
      "cell_type": "markdown",
      "id": "5be451fe",
      "metadata": {
        "deletable": false,
        "editable": false,
        "nbgrader": {
          "grade": false,
          "grade_id": "cell-b5f086e8078ec0bf",
          "locked": true,
          "schema_version": 3,
          "solution": false,
          "task": false
        },
        "id": "5be451fe"
      },
      "source": [
        "When you're ready run the cell below to get feedback on your answer."
      ]
    },
    {
      "cell_type": "code",
      "execution_count": null,
      "id": "5f68fe1c",
      "metadata": {
        "deletable": false,
        "editable": false,
        "id": "5f68fe1c"
      },
      "outputs": [],
      "source": [
        "grader.check(\"q5\")"
      ]
    },
    {
      "cell_type": "markdown",
      "id": "df7b6c1b",
      "metadata": {
        "id": "df7b6c1b"
      },
      "source": [
        "## Q6 (Auto Grading)\n",
        "\n",
        "<div class=\"alert alert-warning\">Make sure to apply the same cleaning step from Q4</div>\n",
        "\n",
        "**Points:** 1\n",
        "\n",
        "**Question:** What is the most recent date listed in the column for DATEOFRECEIPT?\n",
        "\n",
        "Write a function called `findRecentDate()`. the function should take as parameter the name of the file with data and it should return a Python string in the form `YYYY-MM-DD`."
      ]
    },
    {
      "cell_type": "code",
      "execution_count": null,
      "id": "5c13d88f",
      "metadata": {
        "nbgrader": {
          "grade": false,
          "grade_id": "cell-3af7cc6658e25038",
          "locked": false,
          "schema_version": 3,
          "solution": true,
          "task": false
        },
        "tags": [],
        "id": "5c13d88f"
      },
      "outputs": [],
      "source": [
        "import pandas as pd\n",
        "\n",
        "def findRecentDate(path):\n",
        "..."
      ]
    },
    {
      "cell_type": "code",
      "execution_count": null,
      "id": "13d94778",
      "metadata": {
        "tags": [],
        "id": "13d94778"
      },
      "outputs": [],
      "source": [
        "findRecentDate(\"Campaign_Financial_Contributions_Sample.csv\")"
      ]
    },
    {
      "cell_type": "markdown",
      "id": "1ecd38f5-9fe4-4f38-a011-dd10c2fdf511",
      "metadata": {
        "deletable": false,
        "editable": false,
        "id": "1ecd38f5-9fe4-4f38-a011-dd10c2fdf511"
      },
      "source": [
        "When you're ready run the cell below to get feedback on your answer."
      ]
    },
    {
      "cell_type": "code",
      "execution_count": null,
      "id": "5dce2633",
      "metadata": {
        "deletable": false,
        "editable": false,
        "id": "5dce2633"
      },
      "outputs": [],
      "source": [
        "grader.check(\"q6\")"
      ]
    },
    {
      "cell_type": "markdown",
      "id": "9104a558",
      "metadata": {
        "id": "9104a558"
      },
      "source": [
        "## Q7 (Auto Grading)\n",
        "\n",
        "<div class=\"alert alert-warning\">Make sure to apply the same cleaning step from the Q4</div>\n",
        "\n",
        "**Points: 1**\n",
        "\n",
        "**Question:** How many missing values are there for contributor type (CONTRIBUTORTYPE)?"
      ]
    },
    {
      "cell_type": "code",
      "execution_count": null,
      "id": "a1bb0896",
      "metadata": {
        "nbgrader": {
          "grade": false,
          "grade_id": "cell-4b58a4714e3ef85c",
          "locked": false,
          "schema_version": 3,
          "solution": true,
          "task": false
        },
        "tags": [],
        "id": "a1bb0896"
      },
      "outputs": [],
      "source": [
        "import pandas as pd\n",
        "\n",
        "def findMissingValues(path):\n",
        "..."
      ]
    },
    {
      "cell_type": "code",
      "execution_count": null,
      "id": "9b5e4109",
      "metadata": {
        "tags": [],
        "id": "9b5e4109"
      },
      "outputs": [],
      "source": [
        "findMissingValues(\"Campaign_Financial_Contributions_Sample.csv\")"
      ]
    },
    {
      "cell_type": "markdown",
      "id": "2ef4bf1d-41a7-4037-8866-f1ca765b8ceb",
      "metadata": {
        "deletable": false,
        "editable": false,
        "nbgrader": {
          "grade": false,
          "grade_id": "cell-843fab29c3f9869e",
          "locked": true,
          "schema_version": 3,
          "solution": false,
          "task": false
        },
        "id": "2ef4bf1d-41a7-4037-8866-f1ca765b8ceb"
      },
      "source": [
        "When you're ready run the cell below to get feedback on your answer."
      ]
    },
    {
      "cell_type": "code",
      "execution_count": null,
      "id": "b4092019",
      "metadata": {
        "deletable": false,
        "editable": false,
        "id": "b4092019"
      },
      "outputs": [],
      "source": [
        "grader.check(\"q7\")"
      ]
    },
    {
      "cell_type": "code",
      "execution_count": null,
      "id": "6457f80f-080d-4da8-b06f-bcd51b268e6e",
      "metadata": {
        "id": "6457f80f-080d-4da8-b06f-bcd51b268e6e"
      },
      "outputs": [],
      "source": []
    },
    {
      "cell_type": "markdown",
      "id": "c65459d3",
      "metadata": {
        "deletable": false,
        "editable": false,
        "id": "c65459d3"
      },
      "source": [
        "## Submission\n",
        "\n",
        "Don't forget to run all cells in your notebook and then save it. To save, click on `File`, then select `Save/Save Notebook`. After that, download the notebook by going to `File`, then `Download` (for Anaconda notebook), and choosing `Download .ipynb` (for Colab). Finally, submit the notebook on Gradescope using the link found on ELMS."
      ]
    },
    {
      "cell_type": "markdown",
      "id": "90f7af7f",
      "metadata": {
        "id": "90f7af7f"
      },
      "source": [
        ""
      ]
    }
  ],
  "metadata": {
    "celltoolbar": "Create Assignment",
    "kernelspec": {
      "display_name": "Python 3 (ipykernel)",
      "language": "python",
      "name": "python3"
    },
    "language_info": {
      "codemirror_mode": {
        "name": "ipython",
        "version": 3
      },
      "file_extension": ".py",
      "mimetype": "text/x-python",
      "name": "python",
      "nbconvert_exporter": "python",
      "pygments_lexer": "ipython3",
      "version": "3.8.16"
    },
    "otter": {
      "OK_FORMAT": true,
      "tests": {
        "q2": {
          "name": "q2",
          "points": null,
          "suites": [
            {
              "cases": [
                {
                  "code": ">>> assert numdoncorp('Campaign_Financial_Contributions_Sample.csv') == 137, \"The number of rows doesn't match with expected result\"\n",
                  "hidden": false,
                  "locked": false
                }
              ],
              "scored": true,
              "setup": "",
              "teardown": "",
              "type": "doctest"
            }
          ]
        },
        "q4": {
          "name": "q4",
          "points": null,
          "suites": [
            {
              "cases": [
                {
                  "code": ">>> assert findLeastAmount('Campaign_Financial_Contributions_Sample.csv') == 0.09, \"The return value doesn't match with the expected value\"\n",
                  "hidden": false,
                  "locked": false
                }
              ],
              "scored": true,
              "setup": "",
              "teardown": "",
              "type": "doctest"
            }
          ]
        },
        "q5": {
          "name": "q5",
          "points": null,
          "suites": [
            {
              "cases": [
                {
                  "code": ">>> assert findMaxAmount('Campaign_Financial_Contributions_Sample.csv') == 35000.0, \"The return value doesn't match with the expected value\"\n",
                  "hidden": false,
                  "locked": false
                }
              ],
              "scored": true,
              "setup": "",
              "teardown": "",
              "type": "doctest"
            }
          ]
        },
        "q6": {
          "name": "q6",
          "points": null,
          "suites": [
            {
              "cases": [
                {
                  "code": ">>> assert findRecentDate('Campaign_Financial_Contributions_Sample.csv') == '2019-03-13', \"The return date doesn't match with the expected date\"\n",
                  "hidden": false,
                  "locked": false
                }
              ],
              "scored": true,
              "setup": "",
              "teardown": "",
              "type": "doctest"
            }
          ]
        },
        "q7": {
          "name": "q7",
          "points": null,
          "suites": [
            {
              "cases": [
                {
                  "code": ">>> assert findMissingValues('Campaign_Financial_Contributions_Sample.csv') == 1, \"The return value doesn't match with the expected value\"\n",
                  "hidden": false,
                  "locked": false
                }
              ],
              "scored": true,
              "setup": "",
              "teardown": "",
              "type": "doctest"
            }
          ]
        }
      }
    },
    "colab": {
      "provenance": []
    }
  },
  "nbformat": 4,
  "nbformat_minor": 5
}