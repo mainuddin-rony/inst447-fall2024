{
  "cells": [
    {
      "cell_type": "markdown",
      "id": "3f4db9f4-475e-499c-b478-e3d2f7dec167",
      "metadata": {
        "id": "3f4db9f4-475e-499c-b478-e3d2f7dec167"
      },
      "source": [
        "# LAB 0: Test Submission [Total: 3 points]"
      ]
    },
    {
      "cell_type": "markdown",
      "source": [
        "### Important\n",
        "\n",
        "Please ensure that you run the cell below before running any others. This will download all required files and packages, as well as installing the necessary packages to ensure the code runs successfully. If you restart the kernel or your runtime session (in Colab), be sure to rerun this cell before running any others."
      ],
      "metadata": {
        "id": "YDl39IMyQBOZ"
      },
      "id": "YDl39IMyQBOZ"
    },
    {
      "cell_type": "code",
      "execution_count": null,
      "id": "857ab927-f7da-4553-8243-96ac790bd302",
      "metadata": {
        "tags": [],
        "id": "857ab927-f7da-4553-8243-96ac790bd302"
      },
      "outputs": [],
      "source": [
        "required_files = \"https://github.com/mainuddin-rony/inst447-fall2024/raw/main/assignment/lab/lab0/required_files.zip\"\n",
        "! wget $required_files && unzip -j required_files.zip\n",
        "! mkdir tests && mv q1.py tests\n",
        "! pip install -r requirements.txt"
      ]
    },
    {
      "cell_type": "code",
      "execution_count": 16,
      "id": "638610f4",
      "metadata": {
        "deletable": false,
        "editable": false,
        "id": "638610f4"
      },
      "outputs": [],
      "source": [
        "# Initialize Otter\n",
        "import otter\n",
        "grader = otter.Notebook()"
      ]
    },
    {
      "cell_type": "markdown",
      "id": "fc0b84d1-e265-4866-9562-52aa34a6b3a4",
      "metadata": {
        "id": "fc0b84d1-e265-4866-9562-52aa34a6b3a4"
      },
      "source": [
        "The purpose of this assignment is to familiarize with the submission process of this course. This assignment comprises a simple question for **manual grading** and a basic program for **Autograder** evaluation."
      ]
    },
    {
      "cell_type": "markdown",
      "id": "283e8417-b1ac-4fd7-bee8-181663f94953",
      "metadata": {
        "id": "283e8417-b1ac-4fd7-bee8-181663f94953"
      },
      "source": [
        "## Manually graded [1 point]"
      ]
    },
    {
      "cell_type": "markdown",
      "id": "a37f05f6-3ee9-4582-aae7-7932cf2b2431",
      "metadata": {
        "id": "a37f05f6-3ee9-4582-aae7-7932cf2b2431"
      },
      "source": [
        "Write down your name in the following cell."
      ]
    },
    {
      "cell_type": "code",
      "execution_count": null,
      "id": "091c1bb7-fc5b-4077-89c9-30b880c790d8",
      "metadata": {
        "id": "091c1bb7-fc5b-4077-89c9-30b880c790d8"
      },
      "outputs": [],
      "source": [
        "## Your name here\n",
        "name = \"\"\n",
        "name"
      ]
    },
    {
      "cell_type": "markdown",
      "id": "14f145aa-7162-4025-b111-11193e1e3f5d",
      "metadata": {
        "id": "14f145aa-7162-4025-b111-11193e1e3f5d"
      },
      "source": [
        "<br/>\n",
        "<br/>\n",
        "<br/>\n",
        "<br/>\n",
        "<br/>\n",
        "<br/>\n",
        "\n",
        "---"
      ]
    },
    {
      "cell_type": "markdown",
      "id": "cd1543b9-967b-403a-ab50-04288fe9f0f5",
      "metadata": {
        "id": "cd1543b9-967b-403a-ab50-04288fe9f0f5"
      },
      "source": [
        "## Autograded Task [2 points]"
      ]
    },
    {
      "cell_type": "markdown",
      "id": "010ffdec-b803-43ef-9819-07c911ca63d0",
      "metadata": {
        "id": "010ffdec-b803-43ef-9819-07c911ca63d0"
      },
      "source": [
        "### Q1: Calculate mean and median of a numpy array\n",
        "\n",
        "Define a function called `array_cal` that takes two parameters - a list of integers and an operation name. The function should first convert the list to a numpy array, perform the operation on the array, and return the result.\n",
        "\n",
        "For example, given the list `[1,2,3]` and the operation `mean`, it should return `2.0`.\n",
        "\n",
        "**Parameters**\n",
        "* `num_lst` &ndash; a list of integers,\n",
        "* `op` &ndash; name of the operation string (either `mean` or `median`)\n",
        "\n",
        "**Returns**\n",
        "* A numpy float value which is the result after performing the operation\n",
        "\n",
        "**Hint**\n",
        "You can use `numpy.mean()` and `numpy.median()` function to calculate mean and median\n",
        "\n",
        "---\n",
        "\n",
        "⬇️⬇️⬇️ Enter your solution in the cell below ⬇️⬇️⬇️"
      ]
    },
    {
      "cell_type": "code",
      "execution_count": null,
      "id": "de7a5445-3ef4-4b1f-95f9-9461a7c18e43",
      "metadata": {
        "tags": [],
        "id": "de7a5445-3ef4-4b1f-95f9-9461a7c18e43"
      },
      "outputs": [],
      "source": [
        "import numpy as np\n",
        "def array_cal(num_lst, op):\n",
        "...\n",
        "\n",
        "# Test with different arguments!\n",
        "num_lst = [1,2,3]\n",
        "op = 'mean'\n",
        "result = array_cal(num_lst, op)\n",
        "print(\"The \" + op + \" array is \" + str(result))"
      ]
    },
    {
      "cell_type": "markdown",
      "id": "784a7cfd-c8f9-4128-aeea-9881155e49a7",
      "metadata": {
        "deletable": false,
        "editable": false,
        "id": "784a7cfd-c8f9-4128-aeea-9881155e49a7"
      },
      "source": [
        "When you're ready run the cell below to get feedback on your answer."
      ]
    },
    {
      "cell_type": "code",
      "execution_count": null,
      "id": "8dc2bc07",
      "metadata": {
        "deletable": false,
        "editable": false,
        "id": "8dc2bc07"
      },
      "outputs": [],
      "source": [
        "grader.check(\"q1\")"
      ]
    },
    {
      "cell_type": "markdown",
      "source": [
        "<br/>\n",
        "<br/>\n",
        "<br/>\n",
        "<br/>\n",
        "<br/>\n",
        "<br/>\n",
        "\n",
        "---"
      ],
      "metadata": {
        "id": "1SeCsrI2P26g"
      },
      "id": "1SeCsrI2P26g"
    },
    {
      "cell_type": "markdown",
      "id": "4f38ccfb",
      "metadata": {
        "deletable": false,
        "editable": false,
        "id": "4f38ccfb"
      },
      "source": [
        "## Submission\n",
        "\n",
        "Don't forget to run all cells in your notebook and then save it. To save, click on `File`, then select `Save/Save Notebook`. After that, download the notebook by going to `File`, then `Download` (for Anaconda notebook), and choosing `Download .ipynb` (for Colab). Finally, submit the notebook on `Gradescope` using the link found on ELMS."
      ]
    },
    {
      "cell_type": "code",
      "source": [],
      "metadata": {
        "id": "_0b69BaORgLa"
      },
      "id": "_0b69BaORgLa",
      "execution_count": null,
      "outputs": []
    }
  ],
  "metadata": {
    "kernelspec": {
      "display_name": "Python 3 (ipykernel)",
      "language": "python",
      "name": "python3"
    },
    "language_info": {
      "codemirror_mode": {
        "name": "ipython",
        "version": 3
      },
      "file_extension": ".py",
      "mimetype": "text/x-python",
      "name": "python",
      "nbconvert_exporter": "python",
      "pygments_lexer": "ipython3",
      "version": "3.8.16"
    },
    "otter": {
      "OK_FORMAT": true,
      "tests": {
        "q1": {
          "name": "q1",
          "points": null,
          "suites": [
            {
              "cases": [
                {
                  "code": ">>> assert array_cal([1, 2, 3], 'mean') == 2.0, \"For input [1,2,3] and 'mean'', the function should return 2.0\"\n",
                  "hidden": false,
                  "locked": false
                },
                {
                  "code": ">>> assert array_cal([5, 6, 7], 'mean') == 6.0, \"For input [5,6,7] and 'mean'', the function should return 3.0\"\n",
                  "hidden": false,
                  "locked": false
                },
                {
                  "code": ">>> assert array_cal([5, 6, 7], 'median') == 6.0, \"For input [5,6,7] and 'median'', the function should return 6.0\"\n",
                  "hidden": false,
                  "locked": false
                },
                {
                  "code": ">>> assert array_cal([5, 6, 4, 5, 7, 3, 7], 'median') == 5.0, \"For input [5,6,4,5,7,3,7] and 'median'', the function should return 5.0\"\n",
                  "hidden": false,
                  "locked": false
                }
              ],
              "scored": true,
              "setup": "",
              "teardown": "",
              "type": "doctest"
            }
          ]
        }
      }
    },
    "colab": {
      "provenance": []
    }
  },
  "nbformat": 4,
  "nbformat_minor": 5
}