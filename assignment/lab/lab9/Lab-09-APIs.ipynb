{
 "cells": [
  {
   "cell_type": "markdown",
   "metadata": {
    "nbgrader": {
     "grade": false,
     "grade_id": "cell-5cb5d952047d480b",
     "locked": true,
     "schema_version": 3,
     "solution": false,
     "task": false
    }
   },
   "source": [
    "# LAB 9 Web APIs [Total: 3 points]\n",
    "\n",
    "The purpose of this assignment is for you to practice how to collect data from a real-world Web API. This will be accomplished through a coding assignment. You will carry out this task in the present notebook, and use the notebook to document the various steps of the exercise and to answer all questions.\n",
    "\n",
    "## Required skills\n",
    "\n",
    "This lab will let you practice the following APIs:\n",
    "\n",
    "- [MediaWiki &ldquo;Action&rdquo; API](https://www.mediawiki.org/wiki/API:Main_page), in particular the API for the English Wikipedia \n",
    "  + Endpoint: `https://en.wikipedia.org/w/api.php`\n",
    "  + Sandbox: https://en.wikipedia.org/wiki/Special:ApiSandbox\n",
    "- [Wikimedia REST API](https://wikimedia.org/api/rest_v1/#), in particular the Pageviews API \n",
    "  + Endpoint: `/metrics/pageviews/per-article/{project}/{access}/{agent}/{article}/{granularity}/{start}/{end}`\n",
    "  + Note that a sandbox is available at the main link above."
   ]
  },
  {
   "cell_type": "markdown",
   "metadata": {},
   "source": [
    "## Important\n",
    "* Please ensure that you run the following two cells below before running any others. This will download all required files, as well as install the necessary packages to ensure the code runs successfully. If you restart the kernel or your runtime session (in Colab), be sure to rerun this cell before running any others.\n",
    "* This assignment recommends using Google Colab. If you are using Anaconda Jupyter notebook/lab, please ensure that **this notebook is kept in a new folder**. This is because the following commands will **delete all files with the extensions .csv and .py** before downloading the required files."
   ]
  },
  {
   "cell_type": "code",
   "execution_count": null,
   "metadata": {},
   "outputs": [],
   "source": [
    "# Installing Otter-Grader and downloading required files\n",
    "required_files = \"https://github.com/mainuddin-rony/inst447-fall2024/raw/main/assignment/lab/lab9/required_files.zip\"\n",
    "! rm -rf tests\n",
    "! rm -f required_files.zip *.csv *.py ._*.csv *.html *.txt\n",
    "! wget $required_files && unzip -j required_files.zip\n",
    "! mkdir tests && mv *.py tests\n",
    "! pip install otter-grader==6.0.4"
   ]
  },
  {
   "cell_type": "code",
   "execution_count": null,
   "metadata": {},
   "outputs": [],
   "source": [
    "# Initialize Otter\n",
    "import otter\n",
    "grader = otter.Notebook()"
   ]
  },
  {
   "cell_type": "code",
   "execution_count": null,
   "metadata": {},
   "outputs": [],
   "source": [
    "import pandas as pd\n",
    "import numpy as np\n",
    "import requests\n",
    "import json"
   ]
  },
  {
   "cell_type": "markdown",
   "metadata": {
    "nbgrader": {
     "grade": false,
     "grade_id": "cell-9ff8dbc0ac6edc93",
     "locked": true,
     "schema_version": 3,
     "solution": false,
     "task": false
    }
   },
   "source": [
    "## Q1\n",
    "\n",
    "**Points**: 1\n",
    "\n",
    "Write a function called `dogrevisions` that will download data about a fixed set of revisions of the [Wikipedia article on dogs](https://en.wikipedia.org/wiki/Dog). \n",
    "\n",
    "Your function should take a single parameter &ndash; the list of revisions (provided in code cell below). It should query the Wikipedia API and it should return a data frame with 10 entries.\n",
    "\n",
    "Your data frame should look like this:\n",
    "\n",
    "<table border=\"1\" class=\"dataframe\">\n",
    "  <thead>\n",
    "    <tr style=\"text-align: right;\">\n",
    "      <th></th>\n",
    "      <th>user</th>\n",
    "      <th>timestamp</th>\n",
    "      <th>comment</th>\n",
    "    </tr>\n",
    "  </thead>\n",
    "  <tbody>\n",
    "    <tr>\n",
    "      <th>0</th>\n",
    "      <td>Johnj1995</td>\n",
    "      <td>2023-10-10T22:48:48Z</td>\n",
    "      <td>Undid revision 1179555499 by [[Special:Contributions/Readytowriteyay12345|Readytowriteyay12345]] ([[User talk:Readytowriteyay12345|talk]]) Unsourced</td>\n",
    "    </tr>\n",
    "    <tr>\n",
    "      <th>1</th>\n",
    "      <td>Graph8389</td>\n",
    "      <td>2023-10-11T21:16:48Z</td>\n",
    "      <td>/* Breeds */</td>\n",
    "    </tr>\n",
    "    <tr>\n",
    "      <th>2</th>\n",
    "      <td>WikiCleanerBot</td>\n",
    "      <td>2023-10-19T04:47:16Z</td>\n",
    "      <td>v2.05b - [[User:WikiCleanerBot#T20|Bot T20 CW#61]] - Fix errors for [[WP:WCW|CW project]] (Reference before punctuation)</td>\n",
    "    </tr>\n",
    "    <tr>\n",
    "      <th>3</th>\n",
    "      <td>Citation bot</td>\n",
    "      <td>2023-10-25T16:44:10Z</td>\n",
    "      <td>Add: pmc, pmid. | [[:en:WP:UCB|Use this bot]]. [[:en:WP:DBUG|Report bugs]]. | Suggested by Abductive | [[Category:Wolves]] | #UCB_Category 11/45</td>\n",
    "    </tr>\n",
    "    <tr>\n",
    "      <th>4</th>\n",
    "      <td>Halfsentientsnail</td>\n",
    "      <td>2023-10-30T06:37:11Z</td>\n",
    "      <td></td>\n",
    "    </tr>\n",
    "    <tr>\n",
    "      <th>5</th>\n",
    "      <td>Justlettersandnumbers</td>\n",
    "      <td>2023-10-30T09:55:00Z</td>\n",
    "      <td>Restored revision 1181852947 by [[Special:Contributions/Citation bot|Citation bot]] ([[User talk:Citation bot|talk]]): Thanks, but too many mistakes (grammar, [[MOS:OL]], low-grade sources etc); perhaps try making one edit at a time?</td>\n",
    "    </tr>\n",
    "    <tr>\n",
    "      <th>6</th>\n",
    "      <td>Citation bot</td>\n",
    "      <td>2023-11-04T04:20:08Z</td>\n",
    "      <td>Alter: chapter. | [[:en:WP:UCB|Use this bot]]. [[:en:WP:DBUG|Report bugs]]. | Suggested by Лисан аль-Гаиб | #UCB_webform 2/102</td>\n",
    "    </tr>\n",
    "    <tr>\n",
    "      <th>7</th>\n",
    "      <td>The Herald</td>\n",
    "      <td>2023-11-05T13:17:10Z</td>\n",
    "      <td>Cleaned up using [[WP:AutoEd|AutoEd]]</td>\n",
    "    </tr>\n",
    "    <tr>\n",
    "      <th>8</th>\n",
    "      <td>Graham87</td>\n",
    "      <td>2023-11-06T07:43:18Z</td>\n",
    "      <td>/* See also */ undo edits by [[Special:Contributions/Alemedicen|Alemedicen]], tangential, promotional, paid editor</td>\n",
    "    </tr>\n",
    "    <tr>\n",
    "      <th>9</th>\n",
    "      <td>Graham87</td>\n",
    "      <td>2023-11-06T08:12:49Z</td>\n",
    "      <td>/* Domestication */ rm duplicate text ... probably caused by a bad cut-and-paste in [[Special:Diff/1172721550|this edit]] by [[User:Hemiauchenia|Hemiauchenia]]</td>\n",
    "    </tr>\n",
    "  </tbody>\n",
    "</table>\n",
    "\n",
    "### Hints\n",
    "For this question you should keep the timestamp column as a string (i.e. not converted to Pandas Timestamp).\n",
    "\n",
    "For autograding purposes, your function needs to return data about the exact set of revisions below. These revisions are not the latest ones, so instead of specifying a int argument for the `rvlimit` parameter, you will need to specify the `revids=` parameter, which takes a pipe-separated (e.g. `revids=123|456`) list of revisions."
   ]
  },
  {
   "cell_type": "code",
   "execution_count": null,
   "metadata": {
    "nbgrader": {
     "grade": false,
     "grade_id": "cell-074d0732c38b746c",
     "locked": false,
     "schema_version": 3,
     "solution": true,
     "task": false
    },
    "tags": []
   },
   "outputs": [],
   "source": [
    "revisions = [\n",
    "    '1183754588',\n",
    "    '1183750837',\n",
    "    '1183617457',\n",
    "    '1183413301',\n",
    "    '1182612592',\n",
    "    '1182593497',\n",
    "    '1181852947',\n",
    "    '1180839131',\n",
    "    '1179700159',\n",
    "    '1179559162'\n",
    "]\n",
    "\n",
    "\n",
    "def dogrevisions(revisions):\n",
    "..."
   ]
  },
  {
   "cell_type": "markdown",
   "metadata": {
    "deletable": false,
    "editable": false,
    "nbgrader": {
     "grade": false,
     "grade_id": "cell-b2ead82d55b2b13a",
     "locked": true,
     "schema_version": 3,
     "solution": false,
     "task": false
    }
   },
   "source": [
    "Run this cell to test your function. "
   ]
  },
  {
   "cell_type": "code",
   "execution_count": null,
   "metadata": {
    "deletable": false,
    "editable": false,
    "scrolled": true
   },
   "outputs": [],
   "source": [
    "dogrevisions(revisions)"
   ]
  },
  {
   "cell_type": "markdown",
   "metadata": {
    "deletable": false,
    "editable": false
   },
   "source": [
    "When you're ready, run the cell below to get feedback on your answer."
   ]
  },
  {
   "cell_type": "code",
   "execution_count": null,
   "metadata": {
    "deletable": false,
    "editable": false
   },
   "outputs": [],
   "source": [
    "grader.check(\"q1\")"
   ]
  },
  {
   "cell_type": "markdown",
   "metadata": {},
   "source": [
    "<br/>\n",
    "<br/>\n",
    "<br/>\n",
    "<br/>\n",
    "<br/>\n",
    "<br/>\n",
    "\n",
    "---"
   ]
  },
  {
   "cell_type": "markdown",
   "metadata": {
    "nbgrader": {
     "grade": false,
     "grade_id": "cell-fcde46b5fd50ca62",
     "locked": true,
     "schema_version": 3,
     "solution": false,
     "task": false
    }
   },
   "source": [
    "## Q2\n",
    "\n",
    "**Points**: 1\n",
    "\n",
    "Write a function called `viewsofpage` that queries the Wikimedia REST API for the daily number of pageviews (granularity `daily`) by non-automated users only (agent: `user`) to a given Wikipedia page. Your function should accept a single argument -- the title of a Wikipedia article -- and it should return a data frame with the views from August 26, 2023 (`20230826`) at midnight, until Oct 30, 2023 (`20231030`) at midnight. (Your data frame should be 66 rows long.)\n",
    "\n",
    "For example, if the article is the `Dog` one, then the first 5 rows of your data frame should look this:\n",
    "\n",
    "<table border=\"1\" class=\"dataframe\">\n",
    "  <thead>\n",
    "    <tr style=\"text-align: right;\">\n",
    "      <th></th>\n",
    "      <th>project</th>\n",
    "      <th>article</th>\n",
    "      <th>granularity</th>\n",
    "      <th>timestamp</th>\n",
    "      <th>access</th>\n",
    "      <th>agent</th>\n",
    "      <th>views</th>\n",
    "    </tr>\n",
    "  </thead>\n",
    "  <tbody>\n",
    "    <tr>\n",
    "      <th>0</th>\n",
    "      <td>en.wikipedia</td>\n",
    "      <td>Dog</td>\n",
    "      <td>daily</td>\n",
    "      <td>2023082600</td>\n",
    "      <td>all-access</td>\n",
    "      <td>user</td>\n",
    "      <td>9391</td>\n",
    "    </tr>\n",
    "    <tr>\n",
    "      <th>1</th>\n",
    "      <td>en.wikipedia</td>\n",
    "      <td>Dog</td>\n",
    "      <td>daily</td>\n",
    "      <td>2023082700</td>\n",
    "      <td>all-access</td>\n",
    "      <td>user</td>\n",
    "      <td>9956</td>\n",
    "    </tr>\n",
    "    <tr>\n",
    "      <th>2</th>\n",
    "      <td>en.wikipedia</td>\n",
    "      <td>Dog</td>\n",
    "      <td>daily</td>\n",
    "      <td>2023082800</td>\n",
    "      <td>all-access</td>\n",
    "      <td>user</td>\n",
    "      <td>11052</td>\n",
    "    </tr>\n",
    "    <tr>\n",
    "      <th>3</th>\n",
    "      <td>en.wikipedia</td>\n",
    "      <td>Dog</td>\n",
    "      <td>daily</td>\n",
    "      <td>2023082900</td>\n",
    "      <td>all-access</td>\n",
    "      <td>user</td>\n",
    "      <td>11307</td>\n",
    "    </tr>\n",
    "    <tr>\n",
    "      <th>4</th>\n",
    "      <td>en.wikipedia</td>\n",
    "      <td>Dog</td>\n",
    "      <td>daily</td>\n",
    "      <td>2023083000</td>\n",
    "      <td>all-access</td>\n",
    "      <td>user</td>\n",
    "      <td>11731</td>\n",
    "    </tr>\n",
    "  </tbody>\n",
    "</table>\n",
    "\n",
    "and the last 5 rows should look like this: \n",
    "\n",
    "<table border=\"1\" class=\"dataframe\">\n",
    "  <thead>\n",
    "    <tr style=\"text-align: right;\">\n",
    "      <th></th>\n",
    "      <th>project</th>\n",
    "      <th>article</th>\n",
    "      <th>granularity</th>\n",
    "      <th>timestamp</th>\n",
    "      <th>access</th>\n",
    "      <th>agent</th>\n",
    "      <th>views</th>\n",
    "    </tr>\n",
    "  </thead>\n",
    "  <tbody>\n",
    "    <tr>\n",
    "      <th>61</th>\n",
    "      <td>en.wikipedia</td>\n",
    "      <td>Dog</td>\n",
    "      <td>daily</td>\n",
    "      <td>2023102600</td>\n",
    "      <td>all-access</td>\n",
    "      <td>user</td>\n",
    "      <td>11937</td>\n",
    "    </tr>\n",
    "    <tr>\n",
    "      <th>62</th>\n",
    "      <td>en.wikipedia</td>\n",
    "      <td>Dog</td>\n",
    "      <td>daily</td>\n",
    "      <td>2023102700</td>\n",
    "      <td>all-access</td>\n",
    "      <td>user</td>\n",
    "      <td>10713</td>\n",
    "    </tr>\n",
    "    <tr>\n",
    "      <th>63</th>\n",
    "      <td>en.wikipedia</td>\n",
    "      <td>Dog</td>\n",
    "      <td>daily</td>\n",
    "      <td>2023102800</td>\n",
    "      <td>all-access</td>\n",
    "      <td>user</td>\n",
    "      <td>8687</td>\n",
    "    </tr>\n",
    "    <tr>\n",
    "      <th>64</th>\n",
    "      <td>en.wikipedia</td>\n",
    "      <td>Dog</td>\n",
    "      <td>daily</td>\n",
    "      <td>2023102900</td>\n",
    "      <td>all-access</td>\n",
    "      <td>user</td>\n",
    "      <td>9469</td>\n",
    "    </tr>\n",
    "    <tr>\n",
    "      <th>65</th>\n",
    "      <td>en.wikipedia</td>\n",
    "      <td>Dog</td>\n",
    "      <td>daily</td>\n",
    "      <td>2023103000</td>\n",
    "      <td>all-access</td>\n",
    "      <td>user</td>\n",
    "      <td>11501</td>\n",
    "    </tr>\n",
    "  </tbody>\n",
    "</table>\n",
    "\n",
    "### Hints\n",
    "\n",
    "For this question you should keep the timestamp column as a string (i.e. not converted to Pandas Timestamp).\n",
    "\n",
    "The Wikimedia REST API expects you to include a User Agent string in the headers of your request, else it will return a 401 error. To do you can use the following user UA string taken from the popular cURL utility:\n",
    "\n",
    "```python\n",
    "# Set request headers\n",
    "headers = {\n",
    "    'user-agent': 'curl/7.81.0'\n",
    "}\n",
    "\n",
    "# Send the API request\n",
    "response = requests.get(url, headers=headers)\n",
    "```"
   ]
  },
  {
   "cell_type": "code",
   "execution_count": null,
   "metadata": {
    "nbgrader": {
     "grade": false,
     "grade_id": "cell-2106c2df3f8bcdf7",
     "locked": false,
     "schema_version": 3,
     "solution": true,
     "task": false
    },
    "tags": []
   },
   "outputs": [],
   "source": [
    "def viewsofpage(article_name):\n",
    "..."
   ]
  },
  {
   "cell_type": "markdown",
   "metadata": {
    "deletable": false,
    "editable": false,
    "nbgrader": {
     "grade": false,
     "grade_id": "cell-70f90a77ccae2b8c",
     "locked": true,
     "schema_version": 3,
     "solution": false,
     "task": false
    }
   },
   "source": [
    "Call the function with the article name, e.g., `\"Dog\"`. Try different Wikipedia entries as well."
   ]
  },
  {
   "cell_type": "code",
   "execution_count": null,
   "metadata": {
    "deletable": false,
    "editable": false
   },
   "outputs": [],
   "source": [
    "article_name = \"Dog\"\n",
    "viewsofpage(article_name)"
   ]
  },
  {
   "cell_type": "markdown",
   "metadata": {
    "deletable": false,
    "editable": false
   },
   "source": [
    "When you're ready, run the cell below to get feedback on your answer."
   ]
  },
  {
   "cell_type": "code",
   "execution_count": null,
   "metadata": {
    "deletable": false,
    "editable": false
   },
   "outputs": [],
   "source": [
    "grader.check(\"q2\")"
   ]
  },
  {
   "cell_type": "markdown",
   "metadata": {},
   "source": [
    "<br/>\n",
    "<br/>\n",
    "<br/>\n",
    "<br/>\n",
    "<br/>\n",
    "<br/>\n",
    "\n",
    "---"
   ]
  },
  {
   "cell_type": "markdown",
   "metadata": {
    "nbgrader": {
     "grade": false,
     "grade_id": "cell-1a988cdfd266c81a",
     "locked": true,
     "schema_version": 3,
     "solution": false,
     "task": false
    }
   },
   "source": [
    "## Q3\n",
    "\n",
    "**Points**: 1\n",
    "\n",
    "Write a function called `viewsofmanypages` that returns the number of views to a set of Wikipedia articles. Your function should take a single parameter -- a lists of Wikipedia article titles -- and it should return a data frame with the views from August 26, 2023 (`20230826`), until Oct 30, 2023 (`20231030`), indexed by timestamp (as a Pandas DateTimeIndex) and where each column corresponds to a article title.\n",
    "\n",
    "For example, if the titles are `['Dog', 'Cat', 'Parrot', 'Rabbit']` then your function should return a data frame with exactly 264 rows. The top 5 rows of the data frame should look like this: \n",
    "\n",
    "<table border=\"1\" class=\"dataframe\">\n",
    "  <thead>\n",
    "    <tr style=\"text-align: right;\">\n",
    "      <th></th>\n",
    "      <th>project</th>\n",
    "      <th>article</th>\n",
    "      <th>granularity</th>\n",
    "      <th>access</th>\n",
    "      <th>agent</th>\n",
    "      <th>view</th>\n",
    "    </tr>\n",
    "    <tr>\n",
    "      <th>timestamp</th>\n",
    "      <th></th>\n",
    "      <th></th>\n",
    "      <th></th>\n",
    "      <th></th>\n",
    "      <th></th>\n",
    "      <th></th>\n",
    "    </tr>\n",
    "  </thead>\n",
    "  <tbody>\n",
    "    <tr>\n",
    "      <th>2023-08-26</th>\n",
    "      <td>en.wikipedia</td>\n",
    "      <td>Dog</td>\n",
    "      <td>daily</td>\n",
    "      <td>all-access</td>\n",
    "      <td>user</td>\n",
    "      <td>9391</td>\n",
    "    </tr>\n",
    "    <tr>\n",
    "      <th>2023-08-27</th>\n",
    "      <td>en.wikipedia</td>\n",
    "      <td>Dog</td>\n",
    "      <td>daily</td>\n",
    "      <td>all-access</td>\n",
    "      <td>user</td>\n",
    "      <td>9956</td>\n",
    "    </tr>\n",
    "    <tr>\n",
    "      <th>2023-08-28</th>\n",
    "      <td>en.wikipedia</td>\n",
    "      <td>Dog</td>\n",
    "      <td>daily</td>\n",
    "      <td>all-access</td>\n",
    "      <td>user</td>\n",
    "      <td>11052</td>\n",
    "    </tr>\n",
    "    <tr>\n",
    "      <th>2023-08-29</th>\n",
    "      <td>en.wikipedia</td>\n",
    "      <td>Dog</td>\n",
    "      <td>daily</td>\n",
    "      <td>all-access</td>\n",
    "      <td>user</td>\n",
    "      <td>11307</td>\n",
    "    </tr>\n",
    "    <tr>\n",
    "      <th>2023-08-30</th>\n",
    "      <td>en.wikipedia</td>\n",
    "      <td>Dog</td>\n",
    "      <td>daily</td>\n",
    "      <td>all-access</td>\n",
    "      <td>user</td>\n",
    "      <td>11731</td>\n",
    "    </tr>\n",
    "  </tbody>\n",
    "</table>    \n",
    "and the bottom 5 like this:\n",
    "\n",
    "<table border=\"1\" class=\"dataframe\">\n",
    "  <thead>\n",
    "    <tr style=\"text-align: right;\">\n",
    "      <th></th>\n",
    "      <th>project</th>\n",
    "      <th>article</th>\n",
    "      <th>granularity</th>\n",
    "      <th>access</th>\n",
    "      <th>agent</th>\n",
    "      <th>view</th>\n",
    "    </tr>\n",
    "    <tr>\n",
    "      <th>timestamp</th>\n",
    "      <th></th>\n",
    "      <th></th>\n",
    "      <th></th>\n",
    "      <th></th>\n",
    "      <th></th>\n",
    "      <th></th>\n",
    "    </tr>\n",
    "  </thead>\n",
    "  <tbody>\n",
    "    <tr>\n",
    "      <th>2023-10-26</th>\n",
    "      <td>en.wikipedia</td>\n",
    "      <td>Rabbit</td>\n",
    "      <td>daily</td>\n",
    "      <td>all-access</td>\n",
    "      <td>user</td>\n",
    "      <td>3751</td>\n",
    "    </tr>\n",
    "    <tr>\n",
    "      <th>2023-10-27</th>\n",
    "      <td>en.wikipedia</td>\n",
    "      <td>Rabbit</td>\n",
    "      <td>daily</td>\n",
    "      <td>all-access</td>\n",
    "      <td>user</td>\n",
    "      <td>3495</td>\n",
    "    </tr>\n",
    "    <tr>\n",
    "      <th>2023-10-28</th>\n",
    "      <td>en.wikipedia</td>\n",
    "      <td>Rabbit</td>\n",
    "      <td>daily</td>\n",
    "      <td>all-access</td>\n",
    "      <td>user</td>\n",
    "      <td>3426</td>\n",
    "    </tr>\n",
    "    <tr>\n",
    "      <th>2023-10-29</th>\n",
    "      <td>en.wikipedia</td>\n",
    "      <td>Rabbit</td>\n",
    "      <td>daily</td>\n",
    "      <td>all-access</td>\n",
    "      <td>user</td>\n",
    "      <td>3537</td>\n",
    "    </tr>\n",
    "    <tr>\n",
    "      <th>2023-10-30</th>\n",
    "      <td>en.wikipedia</td>\n",
    "      <td>Rabbit</td>\n",
    "      <td>daily</td>\n",
    "      <td>all-access</td>\n",
    "      <td>user</td>\n",
    "      <td>3839</td>\n",
    "    </tr>\n",
    "  </tbody>\n",
    "</table>\n",
    "\n",
    "### Hints\n",
    "The previous hint about supplying a User Agent header in your requests applies here too, see previous question.\n",
    "\n",
    "Unlike the previous question, for this question you will need to convert the `timestamp` column into a pandas Timestamp and use the converted column as a DatetimeIndex for the data frame."
   ]
  },
  {
   "cell_type": "code",
   "execution_count": null,
   "metadata": {
    "nbgrader": {
     "grade": false,
     "grade_id": "cell-1d648c2619ce0633",
     "locked": false,
     "schema_version": 3,
     "solution": true,
     "task": false
    },
    "tags": []
   },
   "outputs": [],
   "source": [
    "def viewsofmanypages(article_titles):\n",
    "..."
   ]
  },
  {
   "cell_type": "markdown",
   "metadata": {
    "deletable": false,
    "editable": false,
    "nbgrader": {
     "grade": false,
     "grade_id": "cell-0ce24af0d0d73bda",
     "locked": true,
     "schema_version": 3,
     "solution": false,
     "task": false
    }
   },
   "source": [
    "Call the function with the article name, e.g., `\"Dog\"`. Try different sets of Wikipedia entries as well. (For example, different sports teams, or different computer brands, etc.)"
   ]
  },
  {
   "cell_type": "code",
   "execution_count": null,
   "metadata": {
    "deletable": false,
    "editable": false
   },
   "outputs": [],
   "source": [
    "viewsofmanypages(['Dog', 'Cat', 'Parrot', 'Rabbit'])"
   ]
  },
  {
   "cell_type": "markdown",
   "metadata": {
    "deletable": false,
    "editable": false
   },
   "source": [
    "When you're ready, run the cell below to get feedback on your answer."
   ]
  },
  {
   "cell_type": "code",
   "execution_count": null,
   "metadata": {
    "deletable": false,
    "editable": false
   },
   "outputs": [],
   "source": [
    "grader.check(\"q3\")"
   ]
  },
  {
   "cell_type": "markdown",
   "metadata": {},
   "source": [
    "<br/>\n",
    "<br/>\n",
    "<br/>\n",
    "<br/>\n",
    "<br/>\n",
    "<br/>\n",
    "\n",
    "---"
   ]
  },
  {
   "cell_type": "markdown",
   "metadata": {},
   "source": [
    "## Submission\n",
    "\n",
    "Don't forget to run all cells in your notebook and then save it. To save, click on *File*, then select *Save/Save Notebook*. After that, download the notebook by going to *File --> Download* (for Anaconda Notebook) or *File --> Download .ipynb* (for Colab). Finally, submit the notebook on Gradescope using the link found on ELMS."
   ]
  }
 ],
 "metadata": {
  "celltoolbar": "Create Assignment",
  "kernelspec": {
   "display_name": "Python 3 (ipykernel)",
   "language": "python",
   "name": "python3"
  },
  "language_info": {
   "codemirror_mode": {
    "name": "ipython",
    "version": 3
   },
   "file_extension": ".py",
   "mimetype": "text/x-python",
   "name": "python",
   "nbconvert_exporter": "python",
   "pygments_lexer": "ipython3",
   "version": "3.11.9"
  },
  "otter": {
   "OK_FORMAT": false,
   "tests": {
    "q1": "from otter.test_files import test_case\n\nOK_FORMAT = False\n\nname = \"q1\"\npoints = None\n\n@test_case(points=None, hidden=False)\ndef test1_dogrevisions(dogrevisions):\n    import pandas as pd\n    from pandas.testing import assert_frame_equal\n    revisions = ['1183754588', '1183750837', '1183617457', '1183413301', '1182612592', '1182593497', '1181852947', '1180839131', '1179700159', '1179559162']\n    q1STUDENT_ANSWER = dogrevisions(revisions)\n    q1CORRECT_ANSWER = pd.read_csv('solutionq1.csv', keep_default_na=False)\n    try:\n        assert_frame_equal(q1STUDENT_ANSWER, q1CORRECT_ANSWER)\n    except AssertionError:\n        idx = q1STUDENT_ANSWER != q1CORRECT_ANSWER\n        correct = q1CORRECT_ANSWER[idx].dropna().to_string()\n        incorrect = q1STUDENT_ANSWER[idx].dropna().to_string()\n        raise AssertionError(f\"Returned dataframe doesn't match. Mismatches are: \\n ===== Correct ===== \\n {correct} \\n\\n ===== Incorrect ===== \\n {incorrect}\")\n\n",
    "q2": "from otter.test_files import test_case\n\nOK_FORMAT = False\n\nname = \"q2\"\npoints = None\n\n@test_case(points=None, hidden=False)\ndef test1_viewsofpage(viewsofpage):\n    import pandas as pd\n    from pandas.testing import assert_frame_equal\n    dtype_dict = {'timestamp': object}\n    article_name = 'Dog'\n    q2STUDENT_ANSWER = viewsofpage(article_name)\n    q2CORRECT_ANSWER = pd.read_csv('solutionq2.csv', dtype=dtype_dict)\n    try:\n        assert_frame_equal(q2STUDENT_ANSWER, q2CORRECT_ANSWER)\n    except AssertionError:\n        idx = q2STUDENT_ANSWER != q2CORRECT_ANSWER\n        correct = q2CORRECT_ANSWER[idx].dropna().to_string()\n        incorrect = q2STUDENT_ANSWER[idx].dropna().to_string()\n        raise AssertionError(f\"Returned dataframe doesn't match. Mismatches are: \\n ===== Correct ===== \\n {correct} \\n\\n ===== Incorrect ===== \\n {incorrect}\")\n\n",
    "q3": "from otter.test_files import test_case\n\nOK_FORMAT = False\n\nname = \"q3\"\npoints = None\n\n@test_case(points=None, hidden=False)\ndef test1_viewsofmanypages(viewsofmanypages):\n    from pandas.testing import assert_frame_equal\n    import pandas as pd\n    article_titles = ['Dog', 'Cat', 'Parrot', 'Rabbit']\n    q3STUDENT_ANSWER = viewsofmanypages(article_titles)\n    q3CORRECT_ANSWER = pd.read_csv('solutionq3.csv', index_col=0, parse_dates=['timestamp'], date_format='%Y-%m-%d')\n    try:\n        assert_frame_equal(q3STUDENT_ANSWER, q3CORRECT_ANSWER)\n    except AssertionError:\n        idx = q3STUDENT_ANSWER != q3CORRECT_ANSWER\n        correct = q3CORRECT_ANSWER[idx].dropna().to_string()\n        incorrect = q3STUDENT_ANSWER[idx].dropna().to_string()\n        raise AssertionError(f\"Returned dataframe doesn't match. Mismatches are: \\n ===== Correct ===== \\n {correct} \\n\\n ===== Incorrect ===== \\n {incorrect}\")\n\n"
   }
  }
 },
 "nbformat": 4,
 "nbformat_minor": 4
}
