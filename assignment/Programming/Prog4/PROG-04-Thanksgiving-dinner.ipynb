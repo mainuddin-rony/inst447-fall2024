{
 "cells": [
  {
   "cell_type": "markdown",
   "metadata": {
    "nbgrader": {
     "grade": false,
     "grade_id": "cell-e151a3d8d1efdbf2",
     "locked": true,
     "schema_version": 3,
     "solution": false,
     "task": false
    }
   },
   "source": [
    "# Programming Assignment 4: Thanksgiving dinner analysis [Total: 15 pts]"
   ]
  },
  {
   "cell_type": "markdown",
   "metadata": {
    "nbgrader": {
     "grade": false,
     "grade_id": "cell-d6c8c7e075fd96e0",
     "locked": true,
     "schema_version": 3,
     "solution": false,
     "task": false
    }
   },
   "source": [
    "## Description\n",
    "\n",
    "In this assignment, you will use the Food Data Central API to pull the nutritional content of a typical Thanksgiving Meal. \n",
    "Follow the instructions and answer the research questions given. \n",
    "\n",
    "\n",
    "## Research questions\n",
    "\n",
    "1) Create the dataframe by following the instructions and then use this dataframe to answer the research questions.\n",
    "\n",
    "2) Is there an association between the amount of protein and energy in a food? \n",
    "\n",
    "3) Which of the Thanksgiving foods would you say is the healthiest/most nutritious, and why?\n",
    "\n",
    "4) Is there an association between the amount of protein and carbs in a food?\n",
    "\n",
    "\n",
    "## Required Skills\n",
    "\n",
    "This lab will let you practice the following skills:\n",
    "- Sending request to a server using python requests module.\n",
    "- Interpreting the response of the request.\n",
    "- Analyzing bar graphs and plots, getting insights from the graphs.\n",
    "\n",
    "A few additional resources can be found here:\n",
    "- https://docs.python-requests.org/\n",
    "\n",
    "\n",
    "## Grading rubric\n",
    "\n",
    "* Creating the dataframe from the API response is worth **3 points**.\n",
    "* Each visualization is worth **3 points**, with these possible penalties:\n",
    "  - Up to &minus;1 pt penalty missing / uninformative axis label (note this applies to each axis separately, so this is max &minus;2 pts).\n",
    "  - Up to &minus;1 pt penalty for missing / uninformative title.\n",
    "  - Up to &minus;1 pt penalty for missing / too short / uninformative plot description.\n",
    "* The final summary is worth **3 points**, with these possible penalties:\n",
    "  - Up to &minus;1 pt penalty for not meeting the minimum length (&ge;150 words);\n",
    "  - Up to &minus;1 pt penalty for not summarizing findings of _all two_ plots;\n",
    "\n",
    "**This assignment will be graded manually**\n",
    "  \n",
    "\n",
    "## Instructions to get the API key\n",
    "\n",
    "<div class=\"alert alert-warning\">⚠️ For any issue with registering your API key, please contact the <a src=\"https://fdc.nal.usda.gov/contact.html\">Food Data Central team</a>. We are unable to assist with API registration issues. ⚠️</div>\n",
    "\n",
    "To work on this notebook you need to register an API key. Please follow these instructions to do so:\n",
    "1. Go to https://fdc.nal.usda.gov/api-key-signup.html;\n",
    "2. Enter your first name, last name, and UMD email address;\n",
    "3. Click on the sign up button;\n",
    "4. Wait for the email with the API key. You should receive a confirmation email in a few minutes.\n",
    "5. You should include your API key in the notebook so we can re-run your code. \n",
    "\n",
    "You should familiarize with the [API developer manual](https://api.data.gov/docs/developer-manual/) that explains how to use the newly created API key in your code."
   ]
  },
  {
   "cell_type": "markdown",
   "metadata": {
    "nbgrader": {
     "grade": false,
     "grade_id": "cell-0325bf82d1ebc749",
     "locked": true,
     "schema_version": 3,
     "solution": false,
     "task": false
    }
   },
   "source": [
    "## Q1 (3 Points)\n",
    "\n",
    "**Points:** 1\n",
    "\n",
    "The FoodCentral database contains nutrient information (e.g. amount dietary fibers) of various food products (e.g. pizza, pasta, etc.). Write a function called `food_nutrients` that uses the `GET /v1/foods/search` endpoint [[API docs](https://fdc.nal.usda.gov/api-guide.html#bkmk-6)] to summarize the nutrient information of the most common types of foods.\n",
    "\n",
    "Use your Food Data Central API Key to send an API request to search the database for the following list of Thanksgiving dinner foods: \n",
    "- turkey\n",
    "- macaroni and cheese\n",
    "- mashed potatoes\n",
    "- bread stuffing\n",
    "- ham\n",
    "- sweet potato souffle\n",
    "- cranberry sauce\n",
    "- mixed vegetables\n",
    "- apple pie\n",
    "- pecan pie. \n",
    "\n",
    "Create a dataframe with the average nutrient values for energy, carbs, protein, fiber, and fat for the foods in the list above. \n",
    "\n",
    "In addition, your function should filter the results to keep only the most common nutrients, and abbreviate the name of the nutrients to simplify the rest of the analysis. The following table lists the nutrients to include in the data frame, and how they should be renamed after cleaning.\n",
    "\n",
    "| Nutrient name from API | Cleaned nutrient name |\n",
    "| --------- | --------- |\n",
    "| `Energy`  | `Energy`  |\n",
    "| `Carbohydrate, by difference` | `Carbs` |\n",
    "| `Protein` | `Protein` |\n",
    "| `Fiber, total dietary` | `Fiber` |\n",
    "| `Total lipid (fat)` | `Fat` |\n",
    "\n",
    "Using the above foods, the resulting dataframe should be:\n",
    "\n",
    "<table border=\"1\" class=\"dataframe\">\n",
    "  <thead>\n",
    "    <tr style=\"text-align: right;\">\n",
    "      <th></th>\n",
    "      <th>Energy</th>\n",
    "      <th>Carbs</th>\n",
    "      <th>Protein</th>\n",
    "      <th>Fiber</th>\n",
    "      <th>Fat</th>\n",
    "    </tr>\n",
    "  </thead>\n",
    "  <tbody>\n",
    "    <tr>\n",
    "      <th>apple pie</th>\n",
    "      <td>349.185185</td>\n",
    "      <td>37.612000</td>\n",
    "      <td>3.437800</td>\n",
    "      <td>2.516327</td>\n",
    "      <td>14.150200</td>\n",
    "    </tr>\n",
    "    <tr>\n",
    "      <th>bread stuffing</th>\n",
    "      <td>323.490566</td>\n",
    "      <td>35.445918</td>\n",
    "      <td>7.967708</td>\n",
    "      <td>1.910417</td>\n",
    "      <td>8.429796</td>\n",
    "    </tr>\n",
    "    <tr>\n",
    "      <th>cranberry sauce</th>\n",
    "      <td>185.326923</td>\n",
    "      <td>39.026531</td>\n",
    "      <td>0.073469</td>\n",
    "      <td>1.491667</td>\n",
    "      <td>0.424792</td>\n",
    "    </tr>\n",
    "    <tr>\n",
    "      <th>ham</th>\n",
    "      <td>286.131148</td>\n",
    "      <td>8.710600</td>\n",
    "      <td>13.822400</td>\n",
    "      <td>0.590698</td>\n",
    "      <td>8.641400</td>\n",
    "    </tr>\n",
    "    <tr>\n",
    "      <th>macaroni and cheese</th>\n",
    "      <td>335.470588</td>\n",
    "      <td>21.179000</td>\n",
    "      <td>6.807000</td>\n",
    "      <td>0.978000</td>\n",
    "      <td>7.365600</td>\n",
    "    </tr>\n",
    "    <tr>\n",
    "      <th>mashed potatoes</th>\n",
    "      <td>252.461538</td>\n",
    "      <td>45.777551</td>\n",
    "      <td>4.943469</td>\n",
    "      <td>3.434694</td>\n",
    "      <td>4.096735</td>\n",
    "    </tr>\n",
    "    <tr>\n",
    "      <th>mixed vegetables</th>\n",
    "      <td>47.380000</td>\n",
    "      <td>9.386458</td>\n",
    "      <td>1.587755</td>\n",
    "      <td>2.112245</td>\n",
    "      <td>0.010833</td>\n",
    "    </tr>\n",
    "    <tr>\n",
    "      <th>pecan pie</th>\n",
    "      <td>460.365385</td>\n",
    "      <td>50.666000</td>\n",
    "      <td>4.320400</td>\n",
    "      <td>2.026531</td>\n",
    "      <td>21.850000</td>\n",
    "    </tr>\n",
    "    <tr>\n",
    "      <th>sweet potato souffle</th>\n",
    "      <td>215.666667</td>\n",
    "      <td>37.533333</td>\n",
    "      <td>2.433333</td>\n",
    "      <td>1.533333</td>\n",
    "      <td>6.258333</td>\n",
    "    </tr>\n",
    "    <tr>\n",
    "      <th>turkey</th>\n",
    "      <td>393.138462</td>\n",
    "      <td>7.726800</td>\n",
    "      <td>16.309400</td>\n",
    "      <td>0.457447</td>\n",
    "      <td>11.490800</td>\n",
    "    </tr>\n",
    "  </tbody>\n",
    "</table>\n",
    "\n",
    "\n",
    "### Hints: \n",
    "- You may find it helpful to organize your code using multiple functions. For example, create a function (e.g., `food_nutrients`) to call the API and convert the response. This function should take a `food` as a parameter and return a dataframe with the average nutrient values for energy, carbs, protein, fiber, and fat for that food. The function `menu_nutrients` should loop through the food list to call the `food_nutrients` function and concatenate the resulting data frames.\n",
    "- This question builds on Lab 10, so it would be helpful if you have tried that before attempting this question.\n",
    "- Since many Thanksgiving foods have multiple terms, make sure to set `requireAllWords` to True in your API calls.\n",
    "\n",
    "### Q1: Code cell\n",
    "\n",
    "Use the code cell below to produce your dataframe. "
   ]
  },
  {
   "cell_type": "code",
   "execution_count": 1,
   "metadata": {
    "nbgrader": {
     "grade": false,
     "grade_id": "cell-3541c5f110dd9501",
     "locked": false,
     "schema_version": 3,
     "solution": true,
     "task": false
    }
   },
   "outputs": [],
   "source": [
    "import pandas as pd\n",
    "import requests\n",
    "\n",
    "URL = \"https://api.nal.usda.gov/fdc/v1/foods/search\"\n",
    "API_KEY = \"\" #Insert your API key here\n",
    "\n",
    "TO_REPLACE = {\n",
    "    'Energy':\t \t \t \t \t \t\t\t\t'Energy',\n",
    "    'Carbohydrate, by difference':\t\t\t\t'Carbs',\n",
    "    'Protein':\t\t\t\t\t\t\t\t\t'Protein',\n",
    "    'Fiber, total dietary':\t\t\t\t\t\t'Fiber',\n",
    "    'Total lipid (fat)':\t\t\t\t\t\t'Fat'\n",
    "}\n",
    "\n",
    "\n",
    "def menu_nutrients(foods):\n",
    "    ...\n"
   ]
  },
  {
   "cell_type": "markdown",
   "metadata": {
    "nbgrader": {
     "grade": false,
     "grade_id": "cell-ba392fa9e423999c",
     "locked": true,
     "schema_version": 3,
     "solution": false,
     "task": false
    }
   },
   "source": [
    "Use the cell below to run your code with the required inputs."
   ]
  },
  {
   "cell_type": "code",
   "execution_count": 2,
   "metadata": {},
   "outputs": [],
   "source": [
    "## This cell must show the output\n",
    "required_foods = [\n",
    "    \"turkey\", \n",
    "    \"macaroni and cheese\", \n",
    "    \"mashed potatoes\", \n",
    "    \"bread stuffing\", \n",
    "    \"ham\", \n",
    "    \"sweet potato souffle\", \n",
    "    \"cranberry sauce\", \n",
    "    \"mixed vegetables\", \n",
    "    \"apple pie\", \n",
    "    \"pecan pie\"\n",
    "]\n",
    "\n",
    "menu_nutrients(required_foods)"
   ]
  },
  {
   "cell_type": "markdown",
   "metadata": {
    "nbgrader": {
     "grade": false,
     "grade_id": "cell-4b832f8a053d5970",
     "locked": true,
     "schema_version": 3,
     "solution": false,
     "task": false
    }
   },
   "source": [
    "## Viz2\n",
    "\n",
    "**Total points:** 3\n",
    "\n",
    "**Research Question 2**: Is there an association between the amount of protein and energy in a food? \n",
    "\n",
    "### Hint\n",
    "\n",
    "Create a plot to show this relationship (your plot must include a title &amp; proper axis labels).\n",
    "\n",
    "\n",
    "### Viz2: Code cell\n",
    "\n",
    "**Points:** 2\n",
    "\n",
    "Use the code cell below to produce your plot. Refer to the [grading rubric](#Grading-rubric) for what to include in it. You may add extra cells if you like but please do not delete / duplicate that cell. Running your cell should display a plot."
   ]
  },
  {
   "cell_type": "code",
   "execution_count": null,
   "metadata": {
    "nbgrader": {
     "grade": true,
     "grade_id": "cell-3267cd8dc97cf7d5",
     "locked": false,
     "points": 3,
     "schema_version": 3,
     "solution": true,
     "task": false
    }
   },
   "outputs": [],
   "source": [
    "%matplotlib inline\n",
    "\n",
    "### BEGIN SOLUTION\n",
    "### END SOLUTION"
   ]
  },
  {
   "cell_type": "markdown",
   "metadata": {
    "nbgrader": {
     "grade": false,
     "grade_id": "cell-0d6d062a7ec15193",
     "locked": true,
     "schema_version": 3,
     "solution": false,
     "task": false
    }
   },
   "source": [
    "### Viz2: MarkDown cell\n",
    "\n",
    "**Points**: 1\n",
    "\n",
    "Use the markdown cell below to describe your plot and answer the research question findings. Refer to the [grading rubric](#Grading-rubric) for what to include in it."
   ]
  },
  {
   "cell_type": "markdown",
   "metadata": {
    "nbgrader": {
     "grade": true,
     "grade_id": "cell-2143a31d68e8730b",
     "locked": false,
     "points": 1,
     "schema_version": 3,
     "solution": true,
     "task": false
    }
   },
   "source": []
  },
  {
   "cell_type": "markdown",
   "metadata": {
    "nbgrader": {
     "grade": false,
     "grade_id": "cell-4f056a35998d58b0",
     "locked": true,
     "schema_version": 3,
     "solution": false,
     "task": false
    }
   },
   "source": [
    "## Viz3\n",
    "\n",
    "**Total Points**: 3\n",
    "\n",
    "**Research Question 3**: Create one plot divided into multiple subplots, where each subplot is a bar graph (for one nutrient each) to show the nutrient concentration of each food item across that nutrient. Each bar graph should show the concentration of a single nutrient across all food items in the thanksgiving dinner menu. All your subplots must include a title &amp; proper axis labels. \n",
    "\n",
    "### Hint\n",
    "\n",
    "To produce a plot with multiple subplots, you can use the `plt.subplots` function (see [documentation here](https://matplotlib.org/stable/api/_as_gen/matplotlib.pyplot.subplots.html#matplotlib.pyplot.subplots)).\n",
    "\n",
    "### Viz3: Code cell\n",
    "\n",
    "**Points:** 2\n",
    "\n",
    "Use the code cell below to produce your plot. Refer to the [grading rubric](#Grading-rubric) for what to include in it. You may add extra cells if you like but please do not delete / duplicate that cell. Running your cell should display a plot."
   ]
  },
  {
   "cell_type": "code",
   "execution_count": null,
   "metadata": {
    "nbgrader": {
     "grade": true,
     "grade_id": "cell-2585d23db3ea7811",
     "locked": false,
     "points": 3,
     "schema_version": 3,
     "solution": true,
     "task": false
    }
   },
   "outputs": [],
   "source": [
    "## Multiple Bar Graphs \n",
    "\n",
    "%matplotlib inline\n",
    "\n",
    "### BEGIN SOLUTION\n",
    "### END SOLUTION"
   ]
  },
  {
   "cell_type": "markdown",
   "metadata": {
    "nbgrader": {
     "grade": false,
     "grade_id": "cell-3664180ac988e13e",
     "locked": true,
     "schema_version": 3,
     "solution": false,
     "task": false
    }
   },
   "source": [
    "### Viz3: MarkDown cell\n",
    "\n",
    "**Points**: 1\n",
    "\n",
    "Use the markdown cell below to describe your plot and answer the research question findings. Refer to the [grading rubric](#Grading-rubric) for what to include in it.\n",
    "\n",
    "Based on the graphs above, answer the following research questions -\n",
    "\n",
    "<b>Which of the Thanksgiving foods would you say is the healthiest/most nutritious, and why? There is no one correct answer here.</b>"
   ]
  },
  {
   "cell_type": "markdown",
   "metadata": {
    "nbgrader": {
     "grade": true,
     "grade_id": "cell-7b3f4473a49d253b",
     "locked": false,
     "points": 1,
     "schema_version": 3,
     "solution": true,
     "task": false
    }
   },
   "source": []
  },
  {
   "cell_type": "markdown",
   "metadata": {
    "nbgrader": {
     "grade": false,
     "grade_id": "cell-4f9486f9d6f2256a",
     "locked": true,
     "schema_version": 3,
     "solution": false,
     "task": false
    }
   },
   "source": [
    "## Viz4\n",
    "\n",
    "**Total points**: 3\n",
    "\n",
    "**Research Question 4**: Is there an association between the amount of protein and carbs in a food?\n",
    "\n",
    "Hint: Create a plot to show this relationship (your plot must include a title & proper axis labels).\n",
    "\n",
    "### Viz4: Code cell\n",
    "\n",
    "**Points:** 2\n",
    "\n",
    "Use the code cell below to produce your plot. Refer to the [grading rubric](#Grading-rubric) for what to include in it. You may add extra cells if you like but please do not delete / duplicate that cell. Running your cell should display a plot."
   ]
  },
  {
   "cell_type": "code",
   "execution_count": 3,
   "metadata": {
    "nbgrader": {
     "grade": true,
     "grade_id": "cell-1b2c3f32f3ca01f1",
     "locked": false,
     "points": 3,
     "schema_version": 3,
     "solution": true,
     "task": false
    }
   },
   "outputs": [],
   "source": [
    "%matplotlib inline\n",
    "\n",
    "### BEGIN SOLUTION\n",
    "### END SOLUTION"
   ]
  },
  {
   "cell_type": "markdown",
   "metadata": {
    "nbgrader": {
     "grade": false,
     "grade_id": "cell-4719e37378594c24",
     "locked": true,
     "schema_version": 3,
     "solution": false,
     "task": false
    }
   },
   "source": [
    "### Viz4: MarkDown cell\n",
    "\n",
    "**Points**: 1\n",
    "\n",
    "Use the markdown cell below to describe your plot and answer the research question findings. Refer to the [grading rubric](#Grading-rubric) for what to include in it."
   ]
  },
  {
   "cell_type": "markdown",
   "metadata": {
    "nbgrader": {
     "grade": true,
     "grade_id": "cell-40701c5bb5f01d1e",
     "locked": false,
     "points": 1,
     "schema_version": 3,
     "solution": true,
     "task": false
    }
   },
   "source": []
  },
  {
   "cell_type": "markdown",
   "metadata": {},
   "source": [
    "<br>\n",
    "<br>\n",
    "<br>\n",
    "\n",
    "---"
   ]
  },
  {
   "cell_type": "markdown",
   "metadata": {},
   "source": [
    "### Summary\n",
    "\n",
    "**Total Points**: 3\n",
    "**Minimum Length**: 150 words\n",
    "\n",
    "Using the findings from your three visualizations, write a compelling summary that weaves together a story about the nutritional profile of a typical Thanksgiving meal. You may consider starting your summary by introducing the focus of your analysis, highlighting the key relationships between macronutrients (protein, carbs, energy) observed in your visualizations. Use these findings to identify the healthiest Thanksgiving food and conclude with broader insights about the nutritional diversity of the meal."
   ]
  },
  {
   "cell_type": "markdown",
   "metadata": {},
   "source": []
  }
 ],
 "metadata": {
  "celltoolbar": "Create Assignment",
  "kernelspec": {
   "display_name": "Python 3 (ipykernel)",
   "language": "python",
   "name": "python3"
  },
  "language_info": {
   "codemirror_mode": {
    "name": "ipython",
    "version": 3
   },
   "file_extension": ".py",
   "mimetype": "text/x-python",
   "name": "python",
   "nbconvert_exporter": "python",
   "pygments_lexer": "ipython3",
   "version": "3.11.9"
  }
 },
 "nbformat": 4,
 "nbformat_minor": 4
}
