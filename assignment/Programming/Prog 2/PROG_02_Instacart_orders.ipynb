{
  "cells": [
    {
      "cell_type": "markdown",
      "id": "9527b5dc",
      "metadata": {
        "nbgrader": {
          "grade": false,
          "grade_id": "cell-8694701eb63a1f4c",
          "locked": true,
          "schema_version": 3,
          "solution": false,
          "task": false
        },
        "id": "9527b5dc"
      },
      "source": [
        "# Programming Assignment 2: InstaCart Orders [Total: 15 pts]\n",
        "**Note**: This assignemnt will be graded manually."
      ]
    },
    {
      "cell_type": "markdown",
      "id": "9b023ea0",
      "metadata": {
        "nbgrader": {
          "grade": false,
          "grade_id": "cell-b2dccf9e164b3d4c",
          "locked": true,
          "schema_version": 3,
          "solution": false,
          "task": false
        },
        "id": "9b023ea0"
      },
      "source": [
        "## Research question\n",
        "\n",
        "**Do people order different foods at different times of day?**\n",
        "\n",
        "For example, do people order more junk food relative to\n",
        "other foods late at night?\n",
        "\n",
        "## Technical skills\n",
        "\n",
        "- Explore the data using Pandas (aggregation, merging, data wrangling);\n",
        "- Visualize the data to help address the main research question;\n",
        "- Tell a compelling story by presenting results in a Jupyter notebook using MarkDown (see this [MarkDown tutorial](https://www.earthdatascience.org/courses/intro-to-earth-data-science/file-formats/use-text-files/format-text-with-markdown-jupyter-notebook/) for help).\n",
        "\n",
        "## Description\n",
        "\n",
        "Instacart is a grocery store delivery service. People place orders online, requested products are gathered at the grocery store, and delivered to the person's location, sometimes within an hour. Instacart made data for several million of these orders publicly available on their website. To keep things more manageable, we have created a smaller dataset that includes information about 1% or all orders from the original dataset. (See the ***Data Dictionary*** section below for more information about the files included in this assignment.)\n",
        "\n",
        "Your job is to explore the data with the goal of constructing 3 visualizations that address the following research question:\n",
        "\n",
        "    RQ. Do people order different foods at different times of day?\n",
        "\n",
        "There are a few reasons we might expect orders to be different for different times of day. First, some orders may be impulse purchases in which a person makes an order for things they want right away (e.g. frozen pizza late at night). Second, if a person is ordering groceries at a particular time of day, then some products may come to their mind more easily (it is easy to think about coffee in the morning, for example). Third, and related to the previous point, a person may decide to place an order because they ran out of a product they typically use at that time of the day (e.g. milk in the morning).\n",
        "\n",
        "Note that you can base your analysis either on individual **departments** (e.g. snacks vs produce), **aisles** within the departments (e.g. specialty cheeses vs dry goods), or **products** (e.g. Artisan Baguette vs Feta cheese). There are multiple different ways to visualize the data: the choice is up to you. You know you have done a good job if you can interpret your own visualizations. My approach is to start with departments: I typically build bar graphs that display the number the orders on the $y$ axis vs the hour of day on the $x$ axis for each department  and look for any clear trend. If a particular department I'm interested in does not show any particular trend, I may look for specific aisles within the department, or even track down orders of individual products, though keep in mind that there may not be enough data to see a meaningful trend.\n",
        "\n",
        "## What to submit\n",
        "\n",
        "<div class=\"alert alert-info\">There is no autograder in this notebook. However, your visualizations need to be reproducible for us to grade them. So make sure to do <i>Kernel &rarr; Restart &amp; Run All</i> before submitting to ensure that your code works.</div>\n",
        "\n",
        "You will work entirely in this notebook and submit it on Gradescope as usual. You should produce in this notebook __3 visualizations__ that answer the research question above.\n",
        "\n",
        "Each visualization should be *limited to a single product/aisle/department.* You may choose whatever 3 products/aisles/departments you like. For example, you could pick 3 different departments; or 2 departments and 1 aisle; or 1 department, 1 aisle, and 1 product.\n",
        "\n",
        "Each visualization should include at least the following elements:\n",
        "1. Clear __axis labels__ on both the $x$ and $y$ axis;\n",
        "2. A figure __title__;\n",
        "3. A brief (3 to 4 sentences max) __description of the plot__ in a separate cell underneath the plot cell.\n",
        "\n",
        "Finally, in the last cell of the notebook, you should write a short __summary of findings__ describing what you found across the 3 visualizations, why it matters, and to whom: your findings could be helpful for different __stakeholders__ &mdash; grocery store owners, shoppers, the Instacart company itself, etc. Make sure to identify in your summary who may benefit from knowledge of your findings. _The summary should be at least 150 words long._\n",
        "\n",
        "\n",
        "## Grading rubric\n",
        "\n",
        "* Each visualization is worth **4 points**, with these possible penalties:\n",
        "  - Up to &minus;1 pt penalty for missing / uninformative axis label (note this applies to each axis separately, so this is max &minus;2 pts).\n",
        "  - Up to &minus;1 pt penalty for missing / uninformative title.\n",
        "  - Up to &minus;1 pt penalty for missing / too short / uninformative plot description.\n",
        "* The final summary is worth **3 points**, with these possible penalties:\n",
        "  - Up to &minus;1 pt penalty for not meeting the minimum length (&ge;150 words);\n",
        "  - Up to &minus;1 pt penalty for not summarizing findings of _all three_ plots;\n",
        "  - Up to &minus;1 pt penatly for not identifying relevant stakeholders."
      ]
    },
    {
      "cell_type": "markdown",
      "id": "1f24efa6",
      "metadata": {
        "nbgrader": {
          "grade": false,
          "grade_id": "cell-414ab9e9d98875db",
          "locked": true,
          "schema_version": 3,
          "solution": false,
          "task": false
        },
        "id": "1f24efa6"
      },
      "source": [
        "## Data Dictionary\n",
        "\n",
        "### File `orders_sample.csv`\n",
        "\n",
        "Each row in this table represents an order made by a particular customer. An order may contain multiple products.\n",
        "- `order_id` &ndash; Unique order identifier;\n",
        "- `user_id` &ndash; Unique user identifier;\n",
        "- `order_dow` &ndash; Day of week of the order (`0` &ndash; Monday &#8230; `6` &ndash; Sunday);\n",
        "- `order_hour_of_day` &ndash; Hour of the day the order was placed.\n",
        "\n",
        "### File `products.csv`\n",
        "\n",
        "Each row in this table represents a product in the store's inventory.\n",
        "- `product_id` &ndash; Product ID (unique identifier for each product);\n",
        "- `product_name` &ndash; Product name;\n",
        "- `aisle_id` &ndash; Aisle ID (unique identifier for each aisle);\n",
        "- `department_id` &ndash; Department ID (unique identifier for each department).\n",
        "\n",
        "### File `order_products_sample.csv`\n",
        "\n",
        "Each row in this table contains information about a particular product that is part of an order.\n",
        "- `order_id` &ndash; Unique order identifier;\n",
        "- `product_id` &ndash; Product ID (Unique identifier for each product).\n",
        "\n",
        "### File `departments.csv`\n",
        "\n",
        "Each row in this table contains information about a particular department.\n",
        "- `department_id` &ndash; Unique department identifier;\n",
        "- `department` &ndash; Department description.\n",
        "\n",
        "### File `aisle.csv`\n",
        "\n",
        "Each row in this table contains information about a particular aisle.\n",
        "\n",
        "- `aisle_id` &ndash; Aisle ID (unique identifier for each aisle);\n",
        "- `aisle` &ndash; Aisle name."
      ]
    },
    {
      "cell_type": "markdown",
      "id": "bc23bbc9",
      "metadata": {
        "nbgrader": {
          "grade": false,
          "grade_id": "cell-725c2ef4c4824cba",
          "locked": true,
          "schema_version": 3,
          "solution": false,
          "task": false
        },
        "id": "bc23bbc9"
      },
      "source": [
        "---\n",
        "\n",
        "## Viz1\n",
        "\n",
        "Work in the code cell and the markdown cell below.\n",
        "\n",
        "### Viz1: Code cell\n",
        "\n",
        "**Points:** 3\n",
        "\n",
        "Use the code cell below to produce your plot. Refer to the **grading rubric** for what to include in it. You may add extra cells if you like but please do not delete / duplicate that cell. Running your cell should display a plot."
      ]
    },
    {
      "cell_type": "code",
      "execution_count": null,
      "id": "58c79168",
      "metadata": {
        "nbgrader": {
          "grade": true,
          "grade_id": "cell-2f9a4180302e8af6",
          "locked": false,
          "points": 3,
          "schema_version": 3,
          "solution": true,
          "task": false
        },
        "id": "58c79168"
      },
      "outputs": [],
      "source": [
        "%matplotlib inline\n",
        "\n",
        "### BEGIN SOLUTION\n",
        "### END SOLUTION"
      ]
    },
    {
      "cell_type": "markdown",
      "id": "a788147d",
      "metadata": {
        "nbgrader": {
          "grade": false,
          "grade_id": "cell-4a7b1b28cf1badc2",
          "locked": true,
          "schema_version": 3,
          "solution": false,
          "task": false
        },
        "id": "a788147d"
      },
      "source": [
        "### Viz1: MarkDown cell\n",
        "\n",
        "**Points**: 1\n",
        "\n",
        "Use the markdown cell below to describe your plot. Refer to the **grading rubric** for what to include in it."
      ]
    },
    {
      "cell_type": "markdown",
      "id": "f4e451a2",
      "metadata": {
        "nbgrader": {
          "grade": true,
          "grade_id": "cell-c209b8c38b6dca0f",
          "locked": false,
          "points": 1,
          "schema_version": 3,
          "solution": true,
          "task": false
        },
        "id": "f4e451a2"
      },
      "source": []
    },
    {
      "cell_type": "markdown",
      "id": "8c6bf479",
      "metadata": {
        "nbgrader": {
          "grade": false,
          "grade_id": "cell-6d9b9d8410e76198",
          "locked": true,
          "schema_version": 3,
          "solution": false,
          "task": false
        },
        "id": "8c6bf479"
      },
      "source": [
        "---\n",
        "\n",
        "## Viz2\n",
        "\n",
        "Work in the code cell and the markdown cell below.\n",
        "\n",
        "### Viz2: Code cell\n",
        "\n",
        "**Points:** 3\n",
        "\n",
        "Use the code cell below to produce your plot. Refer to the **grading rubric** for what to include in it. You may add extra cells if you like but please do not delete / duplicate that cell. Running your cell should display a plot."
      ]
    },
    {
      "cell_type": "code",
      "execution_count": null,
      "id": "2abc2147",
      "metadata": {
        "nbgrader": {
          "grade": true,
          "grade_id": "cell-b682299171eb29e4",
          "locked": false,
          "points": 3,
          "schema_version": 3,
          "solution": true,
          "task": false
        },
        "id": "2abc2147"
      },
      "outputs": [],
      "source": [
        "%matplotlib inline\n",
        "\n",
        "### BEGIN SOLUTION\n",
        "### END SOLUTION"
      ]
    },
    {
      "cell_type": "markdown",
      "id": "c340a209",
      "metadata": {
        "nbgrader": {
          "grade": false,
          "grade_id": "cell-ba78b1ab2a054ad2",
          "locked": true,
          "schema_version": 3,
          "solution": false,
          "task": false
        },
        "id": "c340a209"
      },
      "source": [
        "### Viz2: MarkDown cell\n",
        "\n",
        "**Points**: 1\n",
        "\n",
        "Use the markdown cell below to describe your plot. Refer to the **grading rubric** for what to include in it."
      ]
    },
    {
      "cell_type": "markdown",
      "id": "7ec7bec8",
      "metadata": {
        "nbgrader": {
          "grade": true,
          "grade_id": "cell-cbbec38d8d47dfe3",
          "locked": false,
          "points": 1,
          "schema_version": 3,
          "solution": true,
          "task": false
        },
        "id": "7ec7bec8"
      },
      "source": []
    },
    {
      "cell_type": "markdown",
      "id": "e8eb2516",
      "metadata": {
        "nbgrader": {
          "grade": false,
          "grade_id": "cell-508c118b449bd3aa",
          "locked": true,
          "schema_version": 3,
          "solution": false,
          "task": false
        },
        "id": "e8eb2516"
      },
      "source": [
        "---\n",
        "\n",
        "## Viz3\n",
        "\n",
        "Work in the code cell and the markdown cell below.\n",
        "\n",
        "### Viz3: Code cell\n",
        "\n",
        "**Points:** 3\n",
        "\n",
        "Use the code cell below to produce your plot. Refer to the **grading rubric** for what to include in it. You may add extra cells if you like but please do not delete / duplicate that cell. Running your cell should display a plot."
      ]
    },
    {
      "cell_type": "code",
      "execution_count": null,
      "id": "60bb2534",
      "metadata": {
        "nbgrader": {
          "grade": true,
          "grade_id": "cell-e3f1486f6e92a834",
          "locked": false,
          "points": 3,
          "schema_version": 3,
          "solution": true,
          "task": false
        },
        "id": "60bb2534"
      },
      "outputs": [],
      "source": [
        "%matplotlib inline\n",
        "\n",
        "### BEGIN SOLUTION\n",
        "### END SOLUTION"
      ]
    },
    {
      "cell_type": "markdown",
      "id": "8f651533",
      "metadata": {
        "nbgrader": {
          "grade": false,
          "grade_id": "cell-e151cda928ea0290",
          "locked": true,
          "schema_version": 3,
          "solution": false,
          "task": false
        },
        "id": "8f651533"
      },
      "source": [
        "### Viz3: MarkDown cell\n",
        "\n",
        "**Points**: 1\n",
        "\n",
        "Use the markdown cell below to describe your plot. Refer to the **grading rubric** for what to include in it."
      ]
    },
    {
      "cell_type": "markdown",
      "id": "a08e15ac",
      "metadata": {
        "nbgrader": {
          "grade": true,
          "grade_id": "cell-30ffd01a4b475f0c",
          "locked": false,
          "points": 1,
          "schema_version": 3,
          "solution": true,
          "task": false
        },
        "id": "a08e15ac"
      },
      "source": []
    },
    {
      "cell_type": "markdown",
      "id": "d49bbfa6",
      "metadata": {
        "nbgrader": {
          "grade": false,
          "grade_id": "cell-e9016caba7ccdae9",
          "locked": true,
          "schema_version": 3,
          "solution": false,
          "task": false
        },
        "id": "d49bbfa6"
      },
      "source": [
        "---\n",
        "\n",
        "# Summary\n",
        "\n",
        "Use the markdown cell below to summarize your findings. Refer to the **grading rubric** for what to include in it."
      ]
    },
    {
      "cell_type": "markdown",
      "id": "ea34bbec",
      "metadata": {
        "nbgrader": {
          "grade": true,
          "grade_id": "cell-017be539e5104a57",
          "locked": false,
          "points": 3,
          "schema_version": 3,
          "solution": true,
          "task": false
        },
        "id": "ea34bbec"
      },
      "source": []
    }
  ],
  "metadata": {
    "celltoolbar": "Create Assignment",
    "kernelspec": {
      "display_name": "Python 3 (ipykernel)",
      "language": "python",
      "name": "python3"
    },
    "language_info": {
      "codemirror_mode": {
        "name": "ipython",
        "version": 3
      },
      "file_extension": ".py",
      "mimetype": "text/x-python",
      "name": "python",
      "nbconvert_exporter": "python",
      "pygments_lexer": "ipython3",
      "version": "3.9.16"
    },
    "colab": {
      "provenance": []
    }
  },
  "nbformat": 4,
  "nbformat_minor": 5
}